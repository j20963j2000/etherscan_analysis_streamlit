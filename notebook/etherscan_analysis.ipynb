{
 "cells": [
  {
   "cell_type": "code",
   "execution_count": 1,
   "metadata": {},
   "outputs": [],
   "source": [
    "API_KEY = \"PER4V6RYCAU4TZ54M69D9GXHWNVKX6DY7Z\"\n",
    "BASE_URL = \"https://api.etherscan.io/api\"\n",
    "ETHER_VALUE = 10 ** 18\n",
    "address = \"0x73bceb1cd57c711feac4224d062b0f6ff338501e\"\n",
    "address2 = \"0xddbd2b932c763ba5b1b7ae3b362eac3e8d40121a\""
   ]
  },
  {
   "cell_type": "code",
   "execution_count": 2,
   "metadata": {},
   "outputs": [
    {
     "data": {
      "text/plain": [
       "42"
      ]
     },
     "execution_count": 2,
     "metadata": {},
     "output_type": "execute_result"
    }
   ],
   "source": [
    "len(\"0x73bceb1cd57c711feac4224d062b0f6ff338501e\")"
   ]
  },
  {
   "cell_type": "code",
   "execution_count": 3,
   "metadata": {},
   "outputs": [],
   "source": [
    "import pandas as pd\n",
    "from requests import get\n",
    "from matplotlib import pyplot as plt\n",
    "from datetime import datetime\n",
    "\n",
    "import matplotlib.ticker as mticker\n",
    "from matplotlib.gridspec import GridSpec # 畫圖網格佈局"
   ]
  },
  {
   "cell_type": "code",
   "execution_count": 4,
   "metadata": {},
   "outputs": [],
   "source": [
    "test_url_2 = \"https://etherscan.io/tx/0xe06bfabbacc926d7bbcb6a6ab0ab9df5026c7f53d7722874148c42f65ca25878\""
   ]
  },
  {
   "cell_type": "code",
   "execution_count": 5,
   "metadata": {},
   "outputs": [
    {
     "name": "stdout",
     "output_type": "stream",
     "text": [
      "<Response [403]>\n"
     ]
    }
   ],
   "source": [
    "responce2 = get(test_url_2)\n",
    "print(responce2)"
   ]
  },
  {
   "cell_type": "code",
   "execution_count": 6,
   "metadata": {},
   "outputs": [],
   "source": [
    "test_url = \"https://api.etherscan.io/api?module=contract&action=getsourcecode&address=0x7a250d5630b4cf539739df2c5dacb4c659f2488d&apikey=PER4V6RYCAU4TZ54M69D9GXHWNVKX6DY7Z\"\n"
   ]
  },
  {
   "cell_type": "code",
   "execution_count": 7,
   "metadata": {},
   "outputs": [],
   "source": [
    "responce = get(test_url).json()"
   ]
  },
  {
   "cell_type": "code",
   "execution_count": 8,
   "metadata": {},
   "outputs": [
    {
     "data": {
      "text/plain": [
       "dict_keys(['SourceCode', 'ABI', 'ContractName', 'CompilerVersion', 'OptimizationUsed', 'Runs', 'ConstructorArguments', 'EVMVersion', 'Library', 'LicenseType', 'Proxy', 'Implementation', 'SwarmSource'])"
      ]
     },
     "execution_count": 8,
     "metadata": {},
     "output_type": "execute_result"
    }
   ],
   "source": [
    "responce[\"result\"][0].keys()"
   ]
  },
  {
   "cell_type": "code",
   "execution_count": 9,
   "metadata": {},
   "outputs": [
    {
     "data": {
      "text/plain": [
       "'UniswapV2Router02'"
      ]
     },
     "execution_count": 9,
     "metadata": {},
     "output_type": "execute_result"
    }
   ],
   "source": [
    "responce[\"result\"][0][\"ContractName\"]"
   ]
  },
  {
   "cell_type": "markdown",
   "metadata": {},
   "source": [
    "### Build up class"
   ]
  },
  {
   "cell_type": "code",
   "execution_count": 79,
   "metadata": {},
   "outputs": [],
   "source": [
    "class Get_address_details():\n",
    "    \n",
    "    def __init__(self, address):\n",
    "       \n",
    "        self.address = address\n",
    "        self.BASE_URL = \"https://api.etherscan.io/api\"\n",
    "        self.ETHER_VALUE = 10 ** 18\n",
    "        self.API_KEY = \"PER4V6RYCAU4TZ54M69D9GXHWNVKX6DY7Z\"\n",
    "        \n",
    "    def make_api_url(self, module, action, **kwargs):\n",
    "        url = self.BASE_URL + f\"?module={module}&action={action}&address={self.address}&apikey={self.API_KEY}\"\n",
    "\n",
    "        for key, value in kwargs.items():\n",
    "            url += f\"&{key}={value}\"\n",
    "\n",
    "        return url\n",
    "    \n",
    "    def make_hash_api_url(self, module, action, txhash, **kwargs):\n",
    "        url = self.BASE_URL + f\"?module={module}&action={action}&txhash={txhash}&apikey={self.API_KEY}\"\n",
    "        \n",
    "        for key, value in kwargs.items():\n",
    "            url += f\"&{key}={value}\"\n",
    "\n",
    "        return url\n",
    "    \n",
    "    def get_txns_from_txnhash(self, txhash):\n",
    "        txn_url = self.make_hash_api_url(\"account\", \"txlistinternal\", txhash)\n",
    "        responce = get(txn_url)\n",
    "        data = responce.json()\n",
    "        \n",
    "        return data[\"result\"]\n",
    "        \n",
    "    def get_account_balance(self):\n",
    "        balance_url = self.make_api_url(\"account\", \"balance\", tag=\"latest\")\n",
    "        response = get(balance_url)\n",
    "        data = response.json()\n",
    "\n",
    "        value = int(data[\"result\"]) / ETHER_VALUE\n",
    "        return value\n",
    "    \n",
    "    def get_all_txns(self):\n",
    "        \"\"\"\n",
    "        Get all txns \n",
    "        \"\"\"\n",
    "        transactions_url = self.make_api_url(\"account\", \"txlist\", startblock=0, endblock=99999999, page=1, offset=10000, sort=\"asc\")\n",
    "        response = get(transactions_url)\n",
    "        nor_data = response.json()[\"result\"]\n",
    "        nor_df = pd.DataFrame(nor_data)\n",
    "        nor_df.insert(1, \"txn_type\", value =\"normal\")\n",
    "        \n",
    "        internal_tx_url = self.make_api_url(\"account\", \"txlistinternal\", startblock=0, endblock=99999999, page=1, offset=10000, sort=\"asc\")\n",
    "        in_response = get(internal_tx_url)\n",
    "        in_data = in_response.json()[\"result\"]\n",
    "        in_df = pd.DataFrame(in_data)\n",
    "        in_df.insert(1, \"txn_type\", value = \"internal\")\n",
    "        \n",
    "        data_df = pd.concat([nor_df, in_df], join = \"outer\")\n",
    "        \n",
    "        new_time_list = []\n",
    "        for idx, timestamp in enumerate(data_df[\"timeStamp\"]):\n",
    "            data_df[\"timeStamp\"][idx] = int(timestamp)\n",
    "            new_time = str(datetime.fromtimestamp(int(timestamp))).split(\" \")[0]\n",
    "            new_time_list.append(new_time)\n",
    "        data_df.insert(1, \"datetime\", new_time_list)\n",
    "        data_df[\"datetime\"] = pd.to_datetime(data_df[\"datetime\"], format=\"%Y-%m-%d\")\n",
    "        date_df_out = data_df.set_index(\"datetime\")\n",
    "        # data_df.reset_index(inplace=True, drop=True)\n",
    "        \n",
    "        return date_df_out\n",
    "    "
   ]
  },
  {
   "cell_type": "code",
   "execution_count": 305,
   "metadata": {},
   "outputs": [],
   "source": [
    "def get_txn_counts(address_df, txn_type, txn_time):\n",
    "\n",
    "    if txn_type == \"all\" and txn_time == \"all\":\n",
    "        year_list = {str(i):len(address_df.loc[str(i)]) for i in range(2015, 2023)}\n",
    "        result = pd.DataFrame(list(year_list.items()), columns = [\"year\", \"counts\"])\n",
    "        return result\n",
    "    \n",
    "    elif txn_type == \"all\" and txn_time != \"all\":\n",
    "        year_list_output = {str(month):0 for month in range(1, 13)}\n",
    "        month_count = {str(i):len(address_df.loc[\"{}-{}\".format(txn_time, i)]) for i in range(1, 13)}\n",
    "        year_list_output.update(month_count)\n",
    "        result = pd.DataFrame(list(year_list_output.items()), columns = [\"month\", \"counts\"])\n",
    "        return result\n",
    "    \n",
    "    elif txn_type != \"all\" and txn_time == \"all\":\n",
    "        mask = address_df[\"txn_type\"] == txn_type\n",
    "        year_list = {str(i):len(address_df[mask].loc[str(i)]) for i in range(2015, 2023)}\n",
    "        result = pd.DataFrame(list(year_list.items()), columns = [\"year\", \"counts\"])\n",
    "        return result\n",
    "\n",
    "    else:            \n",
    "        year_list_output = {str(month):0 for month in range(1, 13)}\n",
    "\n",
    "        for i in range(1, 13):\n",
    "            tmp_df = address_df.loc[\"{}-{}\".format(txn_time, i)]\n",
    "            tmp_mask = tmp_df[\"txn_type\"] == txn_type\n",
    "            year_list_output.update(len(tmp_df[tmp_mask]))\n",
    "\n",
    "        result = pd.DataFrame(list(year_list_output.items()), columns = [\"month\", \"counts\"])\n",
    "        return result"
   ]
  },
  {
   "cell_type": "code",
   "execution_count": 306,
   "metadata": {},
   "outputs": [],
   "source": [
    "get_txns = Get_address_details(\"0xd8dA6BF26964aF9D7eEd9e03E53415D37aA96045\")"
   ]
  },
  {
   "cell_type": "code",
   "execution_count": 307,
   "metadata": {},
   "outputs": [],
   "source": [
    "pd.set_option(\"display.max_columns\", None)\n",
    "all_txn_result = get_txns.get_all_txns()"
   ]
  },
  {
   "cell_type": "code",
   "execution_count": 308,
   "metadata": {},
   "outputs": [],
   "source": [
    "txn_type = \"all\"\n",
    "txn_time = \"2022\"\n",
    "mask = all_txn_result[\"txn_type\"] == txn_type\n"
   ]
  },
  {
   "cell_type": "code",
   "execution_count": 309,
   "metadata": {},
   "outputs": [
    {
     "data": {
      "text/html": [
       "<div>\n",
       "<style scoped>\n",
       "    .dataframe tbody tr th:only-of-type {\n",
       "        vertical-align: middle;\n",
       "    }\n",
       "\n",
       "    .dataframe tbody tr th {\n",
       "        vertical-align: top;\n",
       "    }\n",
       "\n",
       "    .dataframe thead th {\n",
       "        text-align: right;\n",
       "    }\n",
       "</style>\n",
       "<table border=\"1\" class=\"dataframe\">\n",
       "  <thead>\n",
       "    <tr style=\"text-align: right;\">\n",
       "      <th></th>\n",
       "      <th>month</th>\n",
       "      <th>counts</th>\n",
       "    </tr>\n",
       "  </thead>\n",
       "  <tbody>\n",
       "    <tr>\n",
       "      <th>0</th>\n",
       "      <td>1</td>\n",
       "      <td>48</td>\n",
       "    </tr>\n",
       "    <tr>\n",
       "      <th>1</th>\n",
       "      <td>2</td>\n",
       "      <td>40</td>\n",
       "    </tr>\n",
       "    <tr>\n",
       "      <th>2</th>\n",
       "      <td>3</td>\n",
       "      <td>28</td>\n",
       "    </tr>\n",
       "    <tr>\n",
       "      <th>3</th>\n",
       "      <td>4</td>\n",
       "      <td>27</td>\n",
       "    </tr>\n",
       "    <tr>\n",
       "      <th>4</th>\n",
       "      <td>5</td>\n",
       "      <td>57</td>\n",
       "    </tr>\n",
       "    <tr>\n",
       "      <th>5</th>\n",
       "      <td>6</td>\n",
       "      <td>28</td>\n",
       "    </tr>\n",
       "    <tr>\n",
       "      <th>6</th>\n",
       "      <td>7</td>\n",
       "      <td>16</td>\n",
       "    </tr>\n",
       "    <tr>\n",
       "      <th>7</th>\n",
       "      <td>8</td>\n",
       "      <td>0</td>\n",
       "    </tr>\n",
       "    <tr>\n",
       "      <th>8</th>\n",
       "      <td>9</td>\n",
       "      <td>0</td>\n",
       "    </tr>\n",
       "    <tr>\n",
       "      <th>9</th>\n",
       "      <td>10</td>\n",
       "      <td>0</td>\n",
       "    </tr>\n",
       "    <tr>\n",
       "      <th>10</th>\n",
       "      <td>11</td>\n",
       "      <td>0</td>\n",
       "    </tr>\n",
       "    <tr>\n",
       "      <th>11</th>\n",
       "      <td>12</td>\n",
       "      <td>0</td>\n",
       "    </tr>\n",
       "  </tbody>\n",
       "</table>\n",
       "</div>"
      ],
      "text/plain": [
       "   month  counts\n",
       "0      1      48\n",
       "1      2      40\n",
       "2      3      28\n",
       "3      4      27\n",
       "4      5      57\n",
       "5      6      28\n",
       "6      7      16\n",
       "7      8       0\n",
       "8      9       0\n",
       "9     10       0\n",
       "10    11       0\n",
       "11    12       0"
      ]
     },
     "execution_count": 309,
     "metadata": {},
     "output_type": "execute_result"
    }
   ],
   "source": [
    "get_txn_counts(all_txn_result, txn_type, txn_time)"
   ]
  },
  {
   "cell_type": "code",
   "execution_count": 312,
   "metadata": {},
   "outputs": [
    {
     "data": {
      "text/html": [
       "<div>\n",
       "<style scoped>\n",
       "    .dataframe tbody tr th:only-of-type {\n",
       "        vertical-align: middle;\n",
       "    }\n",
       "\n",
       "    .dataframe tbody tr th {\n",
       "        vertical-align: top;\n",
       "    }\n",
       "\n",
       "    .dataframe thead th {\n",
       "        text-align: right;\n",
       "    }\n",
       "</style>\n",
       "<table border=\"1\" class=\"dataframe\">\n",
       "  <thead>\n",
       "    <tr style=\"text-align: right;\">\n",
       "      <th></th>\n",
       "      <th>blockNumber</th>\n",
       "      <th>txn_type</th>\n",
       "      <th>timeStamp</th>\n",
       "      <th>hash</th>\n",
       "      <th>nonce</th>\n",
       "      <th>blockHash</th>\n",
       "      <th>transactionIndex</th>\n",
       "      <th>from</th>\n",
       "      <th>to</th>\n",
       "      <th>value</th>\n",
       "      <th>gas</th>\n",
       "      <th>gasPrice</th>\n",
       "      <th>isError</th>\n",
       "      <th>txreceipt_status</th>\n",
       "      <th>input</th>\n",
       "      <th>contractAddress</th>\n",
       "      <th>cumulativeGasUsed</th>\n",
       "      <th>gasUsed</th>\n",
       "      <th>confirmations</th>\n",
       "      <th>methodId</th>\n",
       "      <th>functionName</th>\n",
       "      <th>type</th>\n",
       "      <th>traceId</th>\n",
       "      <th>errCode</th>\n",
       "    </tr>\n",
       "    <tr>\n",
       "      <th>datetime</th>\n",
       "      <th></th>\n",
       "      <th></th>\n",
       "      <th></th>\n",
       "      <th></th>\n",
       "      <th></th>\n",
       "      <th></th>\n",
       "      <th></th>\n",
       "      <th></th>\n",
       "      <th></th>\n",
       "      <th></th>\n",
       "      <th></th>\n",
       "      <th></th>\n",
       "      <th></th>\n",
       "      <th></th>\n",
       "      <th></th>\n",
       "      <th></th>\n",
       "      <th></th>\n",
       "      <th></th>\n",
       "      <th></th>\n",
       "      <th></th>\n",
       "      <th></th>\n",
       "      <th></th>\n",
       "      <th></th>\n",
       "      <th></th>\n",
       "    </tr>\n",
       "  </thead>\n",
       "  <tbody>\n",
       "  </tbody>\n",
       "</table>\n",
       "</div>"
      ],
      "text/plain": [
       "Empty DataFrame\n",
       "Columns: [blockNumber, txn_type, timeStamp, hash, nonce, blockHash, transactionIndex, from, to, value, gas, gasPrice, isError, txreceipt_status, input, contractAddress, cumulativeGasUsed, gasUsed, confirmations, methodId, functionName, type, traceId, errCode]\n",
       "Index: []"
      ]
     },
     "execution_count": 312,
     "metadata": {},
     "output_type": "execute_result"
    }
   ],
   "source": [
    "test = all_txn_result.loc[\"2022-8\"]\n",
    "test"
   ]
  },
  {
   "cell_type": "code",
   "execution_count": 311,
   "metadata": {},
   "outputs": [
    {
     "data": {
      "text/html": [
       "<div>\n",
       "<style scoped>\n",
       "    .dataframe tbody tr th:only-of-type {\n",
       "        vertical-align: middle;\n",
       "    }\n",
       "\n",
       "    .dataframe tbody tr th {\n",
       "        vertical-align: top;\n",
       "    }\n",
       "\n",
       "    .dataframe thead th {\n",
       "        text-align: right;\n",
       "    }\n",
       "</style>\n",
       "<table border=\"1\" class=\"dataframe\">\n",
       "  <thead>\n",
       "    <tr style=\"text-align: right;\">\n",
       "      <th></th>\n",
       "      <th>blockNumber</th>\n",
       "      <th>txn_type</th>\n",
       "      <th>timeStamp</th>\n",
       "      <th>hash</th>\n",
       "      <th>nonce</th>\n",
       "      <th>blockHash</th>\n",
       "      <th>transactionIndex</th>\n",
       "      <th>from</th>\n",
       "      <th>to</th>\n",
       "      <th>value</th>\n",
       "      <th>gas</th>\n",
       "      <th>gasPrice</th>\n",
       "      <th>isError</th>\n",
       "      <th>txreceipt_status</th>\n",
       "      <th>input</th>\n",
       "      <th>contractAddress</th>\n",
       "      <th>cumulativeGasUsed</th>\n",
       "      <th>gasUsed</th>\n",
       "      <th>confirmations</th>\n",
       "      <th>methodId</th>\n",
       "      <th>functionName</th>\n",
       "      <th>type</th>\n",
       "      <th>traceId</th>\n",
       "      <th>errCode</th>\n",
       "    </tr>\n",
       "    <tr>\n",
       "      <th>datetime</th>\n",
       "      <th></th>\n",
       "      <th></th>\n",
       "      <th></th>\n",
       "      <th></th>\n",
       "      <th></th>\n",
       "      <th></th>\n",
       "      <th></th>\n",
       "      <th></th>\n",
       "      <th></th>\n",
       "      <th></th>\n",
       "      <th></th>\n",
       "      <th></th>\n",
       "      <th></th>\n",
       "      <th></th>\n",
       "      <th></th>\n",
       "      <th></th>\n",
       "      <th></th>\n",
       "      <th></th>\n",
       "      <th></th>\n",
       "      <th></th>\n",
       "      <th></th>\n",
       "      <th></th>\n",
       "      <th></th>\n",
       "      <th></th>\n",
       "    </tr>\n",
       "  </thead>\n",
       "  <tbody>\n",
       "  </tbody>\n",
       "</table>\n",
       "</div>"
      ],
      "text/plain": [
       "Empty DataFrame\n",
       "Columns: [blockNumber, txn_type, timeStamp, hash, nonce, blockHash, transactionIndex, from, to, value, gas, gasPrice, isError, txreceipt_status, input, contractAddress, cumulativeGasUsed, gasUsed, confirmations, methodId, functionName, type, traceId, errCode]\n",
       "Index: []"
      ]
     },
     "execution_count": 311,
     "metadata": {},
     "output_type": "execute_result"
    }
   ],
   "source": [
    "test_txn_type = \"normal\"\n",
    "test_mask = test[\"txn_type\"] == test_txn_type\n",
    "test[test_mask]"
   ]
  },
  {
   "cell_type": "code",
   "execution_count": 291,
   "metadata": {},
   "outputs": [
    {
     "ename": "KeyError",
     "evalue": "'2022-8'",
     "output_type": "error",
     "traceback": [
      "\u001b[1;31m---------------------------------------------------------------------------\u001b[0m",
      "\u001b[1;31mKeyError\u001b[0m                                  Traceback (most recent call last)",
      "File \u001b[1;32mc:\\Users\\user\\miniconda3\\lib\\site-packages\\pandas\\core\\indexes\\base.py:2889\u001b[0m, in \u001b[0;36mIndex.get_loc\u001b[1;34m(self, key, method, tolerance)\u001b[0m\n\u001b[0;32m   2888\u001b[0m \u001b[39mtry\u001b[39;00m:\n\u001b[1;32m-> 2889\u001b[0m     \u001b[39mreturn\u001b[39;00m \u001b[39mself\u001b[39;49m\u001b[39m.\u001b[39;49m_engine\u001b[39m.\u001b[39;49mget_loc(casted_key)\n\u001b[0;32m   2890\u001b[0m \u001b[39mexcept\u001b[39;00m \u001b[39mKeyError\u001b[39;00m \u001b[39mas\u001b[39;00m err:\n",
      "File \u001b[1;32mpandas\\_libs\\index.pyx:409\u001b[0m, in \u001b[0;36mpandas._libs.index.DatetimeEngine.get_loc\u001b[1;34m()\u001b[0m\n",
      "File \u001b[1;32mpandas\\_libs\\index.pyx:437\u001b[0m, in \u001b[0;36mpandas._libs.index.DatetimeEngine.get_loc\u001b[1;34m()\u001b[0m\n",
      "File \u001b[1;32mpandas\\_libs\\index.pyx:116\u001b[0m, in \u001b[0;36mpandas._libs.index.IndexEngine._get_loc_duplicates\u001b[1;34m()\u001b[0m\n",
      "\u001b[1;31mKeyError\u001b[0m: 1659312000000000000",
      "\nThe above exception was the direct cause of the following exception:\n",
      "\u001b[1;31mKeyError\u001b[0m                                  Traceback (most recent call last)",
      "File \u001b[1;32mc:\\Users\\user\\miniconda3\\lib\\site-packages\\pandas\\core\\indexes\\datetimes.py:625\u001b[0m, in \u001b[0;36mDatetimeIndex.get_loc\u001b[1;34m(self, key, method, tolerance)\u001b[0m\n\u001b[0;32m    624\u001b[0m \u001b[39mtry\u001b[39;00m:\n\u001b[1;32m--> 625\u001b[0m     \u001b[39mreturn\u001b[39;00m Index\u001b[39m.\u001b[39;49mget_loc(\u001b[39mself\u001b[39;49m, key, method, tolerance)\n\u001b[0;32m    626\u001b[0m \u001b[39mexcept\u001b[39;00m \u001b[39mKeyError\u001b[39;00m \u001b[39mas\u001b[39;00m err:\n",
      "File \u001b[1;32mc:\\Users\\user\\miniconda3\\lib\\site-packages\\pandas\\core\\indexes\\base.py:2891\u001b[0m, in \u001b[0;36mIndex.get_loc\u001b[1;34m(self, key, method, tolerance)\u001b[0m\n\u001b[0;32m   2890\u001b[0m     \u001b[39mexcept\u001b[39;00m \u001b[39mKeyError\u001b[39;00m \u001b[39mas\u001b[39;00m err:\n\u001b[1;32m-> 2891\u001b[0m         \u001b[39mraise\u001b[39;00m \u001b[39mKeyError\u001b[39;00m(key) \u001b[39mfrom\u001b[39;00m \u001b[39merr\u001b[39;00m\n\u001b[0;32m   2893\u001b[0m \u001b[39mif\u001b[39;00m tolerance \u001b[39mis\u001b[39;00m \u001b[39mnot\u001b[39;00m \u001b[39mNone\u001b[39;00m:\n",
      "\u001b[1;31mKeyError\u001b[0m: Timestamp('2022-08-01 00:00:00')",
      "\nThe above exception was the direct cause of the following exception:\n",
      "\u001b[1;31mKeyError\u001b[0m                                  Traceback (most recent call last)",
      "\u001b[1;32mc:\\Users\\user\\Desktop\\etherscan_analysis\\streamlit\\notebook\\etherscan_analysis.ipynb Cell 19\u001b[0m in \u001b[0;36m<cell line: 1>\u001b[1;34m()\u001b[0m\n\u001b[1;32m----> <a href='vscode-notebook-cell:/c%3A/Users/user/Desktop/etherscan_analysis/streamlit/notebook/etherscan_analysis.ipynb#ch0000066?line=0'>1</a>\u001b[0m get_txn_counts(all_txn_result, txn_type, txn_time)\n",
      "\u001b[1;32mc:\\Users\\user\\Desktop\\etherscan_analysis\\streamlit\\notebook\\etherscan_analysis.ipynb Cell 19\u001b[0m in \u001b[0;36mget_txn_counts\u001b[1;34m(address_df, txn_type, txn_time)\u001b[0m\n\u001b[0;32m     <a href='vscode-notebook-cell:/c%3A/Users/user/Desktop/etherscan_analysis/streamlit/notebook/etherscan_analysis.ipynb#ch0000066?line=24'>25</a>\u001b[0m year_list_output \u001b[39m=\u001b[39m {\u001b[39mstr\u001b[39m(month):\u001b[39m0\u001b[39m \u001b[39mfor\u001b[39;00m month \u001b[39min\u001b[39;00m \u001b[39mrange\u001b[39m(\u001b[39m1\u001b[39m, \u001b[39m13\u001b[39m)}\n\u001b[0;32m     <a href='vscode-notebook-cell:/c%3A/Users/user/Desktop/etherscan_analysis/streamlit/notebook/etherscan_analysis.ipynb#ch0000066?line=25'>26</a>\u001b[0m \u001b[39mfor\u001b[39;00m i \u001b[39min\u001b[39;00m \u001b[39mrange\u001b[39m(\u001b[39m1\u001b[39m, \u001b[39m13\u001b[39m):\n\u001b[1;32m---> <a href='vscode-notebook-cell:/c%3A/Users/user/Desktop/etherscan_analysis/streamlit/notebook/etherscan_analysis.ipynb#ch0000066?line=26'>27</a>\u001b[0m     \u001b[39mif\u001b[39;00m address_df[mask]\u001b[39m.\u001b[39;49mloc[\u001b[39m\"\u001b[39;49m\u001b[39m{}\u001b[39;49;00m\u001b[39m-\u001b[39;49m\u001b[39m{}\u001b[39;49;00m\u001b[39m\"\u001b[39;49m\u001b[39m.\u001b[39;49mformat(txn_time, i)] \u001b[39mis\u001b[39;00m \u001b[39mnot\u001b[39;00m \u001b[39mNone\u001b[39;00m:\n\u001b[0;32m     <a href='vscode-notebook-cell:/c%3A/Users/user/Desktop/etherscan_analysis/streamlit/notebook/etherscan_analysis.ipynb#ch0000066?line=27'>28</a>\u001b[0m         month_count \u001b[39m=\u001b[39m {\u001b[39mstr\u001b[39m(i):\u001b[39mlen\u001b[39m(address_df[mask]\u001b[39m.\u001b[39mloc[\u001b[39m\"\u001b[39m\u001b[39m{}\u001b[39;00m\u001b[39m-\u001b[39m\u001b[39m{}\u001b[39;00m\u001b[39m\"\u001b[39m\u001b[39m.\u001b[39mformat(txn_time, i)])}\n\u001b[0;32m     <a href='vscode-notebook-cell:/c%3A/Users/user/Desktop/etherscan_analysis/streamlit/notebook/etherscan_analysis.ipynb#ch0000066?line=28'>29</a>\u001b[0m         year_list_output\u001b[39m.\u001b[39mupdate(month_count)\n",
      "File \u001b[1;32mc:\\Users\\user\\miniconda3\\lib\\site-packages\\pandas\\core\\indexing.py:879\u001b[0m, in \u001b[0;36m_LocationIndexer.__getitem__\u001b[1;34m(self, key)\u001b[0m\n\u001b[0;32m    876\u001b[0m axis \u001b[39m=\u001b[39m \u001b[39mself\u001b[39m\u001b[39m.\u001b[39maxis \u001b[39mor\u001b[39;00m \u001b[39m0\u001b[39m\n\u001b[0;32m    878\u001b[0m maybe_callable \u001b[39m=\u001b[39m com\u001b[39m.\u001b[39mapply_if_callable(key, \u001b[39mself\u001b[39m\u001b[39m.\u001b[39mobj)\n\u001b[1;32m--> 879\u001b[0m \u001b[39mreturn\u001b[39;00m \u001b[39mself\u001b[39;49m\u001b[39m.\u001b[39;49m_getitem_axis(maybe_callable, axis\u001b[39m=\u001b[39;49maxis)\n",
      "File \u001b[1;32mc:\\Users\\user\\miniconda3\\lib\\site-packages\\pandas\\core\\indexing.py:1110\u001b[0m, in \u001b[0;36m_LocIndexer._getitem_axis\u001b[1;34m(self, key, axis)\u001b[0m\n\u001b[0;32m   1108\u001b[0m \u001b[39m# fall thru to straight lookup\u001b[39;00m\n\u001b[0;32m   1109\u001b[0m \u001b[39mself\u001b[39m\u001b[39m.\u001b[39m_validate_key(key, axis)\n\u001b[1;32m-> 1110\u001b[0m \u001b[39mreturn\u001b[39;00m \u001b[39mself\u001b[39;49m\u001b[39m.\u001b[39;49m_get_label(key, axis\u001b[39m=\u001b[39;49maxis)\n",
      "File \u001b[1;32mc:\\Users\\user\\miniconda3\\lib\\site-packages\\pandas\\core\\indexing.py:1059\u001b[0m, in \u001b[0;36m_LocIndexer._get_label\u001b[1;34m(self, label, axis)\u001b[0m\n\u001b[0;32m   1057\u001b[0m \u001b[39mdef\u001b[39;00m \u001b[39m_get_label\u001b[39m(\u001b[39mself\u001b[39m, label, axis: \u001b[39mint\u001b[39m):\n\u001b[0;32m   1058\u001b[0m     \u001b[39m# GH#5667 this will fail if the label is not present in the axis.\u001b[39;00m\n\u001b[1;32m-> 1059\u001b[0m     \u001b[39mreturn\u001b[39;00m \u001b[39mself\u001b[39;49m\u001b[39m.\u001b[39;49mobj\u001b[39m.\u001b[39;49mxs(label, axis\u001b[39m=\u001b[39;49maxis)\n",
      "File \u001b[1;32mc:\\Users\\user\\miniconda3\\lib\\site-packages\\pandas\\core\\generic.py:3482\u001b[0m, in \u001b[0;36mNDFrame.xs\u001b[1;34m(self, key, axis, level, drop_level)\u001b[0m\n\u001b[0;32m   3480\u001b[0m     loc, new_index \u001b[39m=\u001b[39m \u001b[39mself\u001b[39m\u001b[39m.\u001b[39mindex\u001b[39m.\u001b[39mget_loc_level(key, drop_level\u001b[39m=\u001b[39mdrop_level)\n\u001b[0;32m   3481\u001b[0m \u001b[39melse\u001b[39;00m:\n\u001b[1;32m-> 3482\u001b[0m     loc \u001b[39m=\u001b[39m \u001b[39mself\u001b[39;49m\u001b[39m.\u001b[39;49mindex\u001b[39m.\u001b[39;49mget_loc(key)\n\u001b[0;32m   3484\u001b[0m     \u001b[39mif\u001b[39;00m \u001b[39misinstance\u001b[39m(loc, np\u001b[39m.\u001b[39mndarray):\n\u001b[0;32m   3485\u001b[0m         \u001b[39mif\u001b[39;00m loc\u001b[39m.\u001b[39mdtype \u001b[39m==\u001b[39m np\u001b[39m.\u001b[39mbool_:\n",
      "File \u001b[1;32mc:\\Users\\user\\miniconda3\\lib\\site-packages\\pandas\\core\\indexes\\datetimes.py:627\u001b[0m, in \u001b[0;36mDatetimeIndex.get_loc\u001b[1;34m(self, key, method, tolerance)\u001b[0m\n\u001b[0;32m    625\u001b[0m     \u001b[39mreturn\u001b[39;00m Index\u001b[39m.\u001b[39mget_loc(\u001b[39mself\u001b[39m, key, method, tolerance)\n\u001b[0;32m    626\u001b[0m \u001b[39mexcept\u001b[39;00m \u001b[39mKeyError\u001b[39;00m \u001b[39mas\u001b[39;00m err:\n\u001b[1;32m--> 627\u001b[0m     \u001b[39mraise\u001b[39;00m \u001b[39mKeyError\u001b[39;00m(orig_key) \u001b[39mfrom\u001b[39;00m \u001b[39merr\u001b[39;00m\n",
      "\u001b[1;31mKeyError\u001b[0m: '2022-8'"
     ]
    }
   ],
   "source": [
    "get_txn_counts(all_txn_result, txn_type, txn_time)"
   ]
  },
  {
   "cell_type": "code",
   "execution_count": null,
   "metadata": {},
   "outputs": [],
   "source": [
    "txn_type = \"normal\"\n",
    "txn_time = \"2020\"\n",
    "# mask = all_txn_result[\"txn_type\"] == txn_type\n",
    "# year_list = {\"{}\".format(i):len(all_txn_result[mask][\"{}-{}\".format(txn_time, i)]) for i in range(1, 13)}\n",
    "# year_list = {\"{}\".format(i):len(all_txn_result[\"{}-{}\".format(txn_time, i)]) for i in range(1, 13)}\n",
    "\n",
    "mask = all_txn_result[\"txn_type\"] == txn_type\n",
    "year_list = {\"{}\".format(i):len(all_txn_result[mask][\"{}\".format(i)]) for i in range(2015, 2023)}\n",
    "result = pd.DataFrame(list(year_list.items()), columns = [\"year\", \"counts\"])"
   ]
  },
  {
   "cell_type": "code",
   "execution_count": null,
   "metadata": {},
   "outputs": [],
   "source": [
    "year_list"
   ]
  },
  {
   "cell_type": "code",
   "execution_count": null,
   "metadata": {},
   "outputs": [],
   "source": [
    "year_list = {\"{}\".format(i):len(all_txn_result[\"{}\".format(i)]) for i in range(2015, 2023)}"
   ]
  },
  {
   "cell_type": "code",
   "execution_count": null,
   "metadata": {},
   "outputs": [],
   "source": [
    "year_list"
   ]
  },
  {
   "cell_type": "code",
   "execution_count": null,
   "metadata": {},
   "outputs": [],
   "source": [
    "pd.DataFrame(list(year_list.items()),\n",
    "                   columns=['year', 'counts'])"
   ]
  },
  {
   "cell_type": "code",
   "execution_count": null,
   "metadata": {},
   "outputs": [],
   "source": [
    "pd.DataFrame(year_list, columns = [\"datetime\", \"counts\"])"
   ]
  },
  {
   "cell_type": "code",
   "execution_count": null,
   "metadata": {},
   "outputs": [],
   "source": [
    "time_mask = (lambda x : datetime.strptime(x, \"2020-%m-%d\"))"
   ]
  },
  {
   "cell_type": "code",
   "execution_count": null,
   "metadata": {},
   "outputs": [],
   "source": [
    "all_txn_result[all_txn_result[\"datetime\"].apply(lambda x : datetime.strptime(x, \"2020-%m-%d\"))]"
   ]
  },
  {
   "cell_type": "code",
   "execution_count": null,
   "metadata": {},
   "outputs": [],
   "source": [
    "new_all_txn_result = all_txn_result.set_index(\"datetime\")"
   ]
  },
  {
   "cell_type": "code",
   "execution_count": null,
   "metadata": {},
   "outputs": [],
   "source": [
    "new_all_txn_result[\"\"]"
   ]
  },
  {
   "cell_type": "code",
   "execution_count": null,
   "metadata": {},
   "outputs": [],
   "source": [
    "get_txns.get_normal_txns()"
   ]
  },
  {
   "cell_type": "code",
   "execution_count": null,
   "metadata": {
    "scrolled": true
   },
   "outputs": [],
   "source": [
    "for txn in get_txns.get_internal_txns():\n",
    "    print(\"From :\", txn[\"from\"])\n",
    "    print(\"To :\", txn[\"to\"])\n",
    "    print(\"Value :\", int(txn[\"value\"])/ETHER_VALUE)\n",
    "    print(\"Type :\", txn[\"type\"])\n",
    "    print(\"Hash :\", txn[\"hash\"])\n",
    "    print(\"=\"*10)"
   ]
  },
  {
   "cell_type": "code",
   "execution_count": null,
   "metadata": {
    "scrolled": true
   },
   "outputs": [],
   "source": [
    "get_txns.get_all_txns()"
   ]
  },
  {
   "cell_type": "code",
   "execution_count": null,
   "metadata": {
    "scrolled": true
   },
   "outputs": [],
   "source": [
    "get_txns = Get_address_details(address)\n",
    "result = get_txns.get_all_txns_by_datetime()\n",
    "result"
   ]
  },
  {
   "cell_type": "code",
   "execution_count": null,
   "metadata": {},
   "outputs": [],
   "source": [
    "def txns_by_year(address_result_dict):\n",
    "    datetime_list = list(address_result_dict.keys())\n",
    "    yeartime_dict = {}\n",
    "    \n",
    "    for year_day in address_result_dict:\n",
    "        year = year_day.split(\"-\")[0]\n",
    "        if year in yeartime_dict:\n",
    "            yeartime_dict[year] += 1\n",
    "        else:\n",
    "            yeartime_dict[year] = 1\n",
    "    \n",
    "    return yeartime_dict\n",
    "        "
   ]
  },
  {
   "cell_type": "code",
   "execution_count": null,
   "metadata": {},
   "outputs": [],
   "source": [
    "txns_by_year(result)"
   ]
  },
  {
   "cell_type": "code",
   "execution_count": null,
   "metadata": {},
   "outputs": [],
   "source": [
    "def txn_in_specific_year(target_year, address_result_dict):\n",
    "    \n",
    "    month_time_dict = {}\n",
    "    \n",
    "    for year_day in address_result_dict:\n",
    "        year, month = year_day.split(\"-\")[0], year_day.split(\"-\")[1]\n",
    "        if year == target_year:\n",
    "            if month in month_time_dict:\n",
    "                month_time_dict[month] += 1\n",
    "            else:\n",
    "                month_time_dict[month] = 1\n",
    "        else:\n",
    "            pass\n",
    "        \n",
    "    return month_time_dict"
   ]
  },
  {
   "cell_type": "code",
   "execution_count": null,
   "metadata": {},
   "outputs": [],
   "source": [
    "txn_in_specific_year(\"2019\", result)"
   ]
  },
  {
   "cell_type": "code",
   "execution_count": null,
   "metadata": {},
   "outputs": [],
   "source": [
    "df = pd.DataFrame(list(result.items()),\n",
    "                   columns=['datetime', 'counts'])"
   ]
  },
  {
   "cell_type": "code",
   "execution_count": null,
   "metadata": {},
   "outputs": [],
   "source": [
    "df"
   ]
  },
  {
   "cell_type": "code",
   "execution_count": null,
   "metadata": {},
   "outputs": [],
   "source": [
    "list(df.items())[0][1].tolist()"
   ]
  },
  {
   "cell_type": "code",
   "execution_count": null,
   "metadata": {},
   "outputs": [],
   "source": [
    "list(df.items())[1][1].tolist()"
   ]
  },
  {
   "cell_type": "code",
   "execution_count": null,
   "metadata": {},
   "outputs": [],
   "source": [
    "len(df)"
   ]
  },
  {
   "cell_type": "code",
   "execution_count": null,
   "metadata": {},
   "outputs": [],
   "source": [
    "# example for get account balance url\n",
    "\"\"\"\n",
    "https://api.etherscan.io/api\n",
    "   ?module=account\n",
    "   &action=balance\n",
    "   &address=0xde0b295669a9fd93d5f28d9ec85e40f4cb697bae\n",
    "   &tag=latest\n",
    "   &apikey=YourApiKeyToken\n",
    "\"\"\""
   ]
  },
  {
   "cell_type": "markdown",
   "metadata": {},
   "source": [
    "### Create api url"
   ]
  },
  {
   "cell_type": "code",
   "execution_count": null,
   "metadata": {},
   "outputs": [],
   "source": [
    "def make_api_url(module, action, address, **kwargs):\n",
    "    url = BASE_URL + f\"?module={module}&action={action}&address={address}&apikey={API_KEY}\"\n",
    "\n",
    "    for key, value in kwargs.items():\n",
    "        url += f\"&{key}={value}\"\n",
    "\n",
    "    return url"
   ]
  },
  {
   "cell_type": "markdown",
   "metadata": {},
   "source": [
    "### Get account balance by address"
   ]
  },
  {
   "cell_type": "code",
   "execution_count": null,
   "metadata": {},
   "outputs": [],
   "source": [
    "def get_account_balance(address):\n",
    "    balance_url = make_api_url(\"account\", \"balance\", address, tag=\"latest\")\n",
    "    response = get(balance_url)\n",
    "    data = response.json()\n",
    "\n",
    "    value = int(data[\"result\"]) / ETHER_VALUE\n",
    "    return value"
   ]
  },
  {
   "cell_type": "code",
   "execution_count": null,
   "metadata": {},
   "outputs": [],
   "source": [
    "account_balance = get_account_balance(address)\n",
    "print(account_balance)"
   ]
  },
  {
   "cell_type": "code",
   "execution_count": null,
   "metadata": {},
   "outputs": [],
   "source": [
    "# Example for get all txns record from address\n",
    "\"\"\"\n",
    "https://api.etherscan.io/api\n",
    "   ?module=account\n",
    "   &action=txlist\n",
    "   &address=0xc5102fE9359FD9a28f877a67E36B0F050d81a3CC\n",
    "   &startblock=0\n",
    "   &endblock=99999999\n",
    "   &page=1\n",
    "   &offset=10\n",
    "   &sort=asc\n",
    "   &apikey=YourApiKeyToken\n",
    "\"\"\""
   ]
  },
  {
   "cell_type": "code",
   "execution_count": null,
   "metadata": {},
   "outputs": [],
   "source": [
    "def get_txns(address):\n",
    "    \"\"\"\n",
    "    Get all txns \n",
    "    \"\"\"\n",
    "    transactions_url = make_api_url(\"account\", \"txlist\", address, startblock=0, endblock=99999999, page=1, offset=10000, sort=\"asc\")\n",
    "    response = get(transactions_url)\n",
    "    data = response.json()[\"result\"]\n",
    "\n",
    "    internal_tx_url = make_api_url(\"account\", \"txlistinternal\", address, startblock=0, endblock=99999999, page=1, offset=10000, sort=\"asc\")\n",
    "    response2 = get(internal_tx_url)\n",
    "    data2 = response2.json()[\"result\"]\n",
    "\n",
    "    data.extend(data2)\n",
    "    data.sort(key=lambda x: int(x['timeStamp']))\n",
    "    \n",
    "    return data"
   ]
  },
  {
   "cell_type": "code",
   "execution_count": null,
   "metadata": {},
   "outputs": [],
   "source": [
    "def get_txns_sum_by_datetime(address):\n",
    "    address_data = get_txns(address)\n",
    "    txns_by_datetime = {}\n",
    "    \n",
    "    for txn_data in address_data:\n",
    "        time = str(datetime.fromtimestamp(int(txn_data[\"timeStamp\"]))).split(\" \")[0]\n",
    "        \n",
    "        if time in txns_by_datetime:\n",
    "            txns_by_datetime[time] += 1\n",
    "        else:\n",
    "            txns_by_datetime[time] = 1\n",
    "    return txns_by_datetime"
   ]
  },
  {
   "cell_type": "code",
   "execution_count": null,
   "metadata": {},
   "outputs": [],
   "source": [
    "def get_normal_txns_by_datetime(address):\n",
    "    \n",
    "    \"\"\"\n",
    "    Get normal txns by date time\n",
    "    \"\"\"\n",
    "    \n",
    "    txns_by_datetime = {}\n",
    "    \n",
    "    transactions_url = make_api_url(\"account\", \"txlist\", address, startblock=0, endblock=99999999, page=1, offset=10000, sort=\"asc\")\n",
    "    response = get(transactions_url)\n",
    "    data = response.json()[\"result\"]\n",
    "    \n",
    "    data.sort(key=lambda x: int(x['timeStamp']))\n",
    "    \n",
    "    for d in data:\n",
    "        time = str(datetime.fromtimestamp(int(d[\"timeStamp\"]))).split(\" \")[0]\n",
    "        \n",
    "        if time in txns_by_datetime:\n",
    "            txns_by_datetime[time] += 1\n",
    "        else:\n",
    "            txns_by_datetime[time] = 1\n",
    "        \n",
    "    return txns_by_datetime\n",
    "    "
   ]
  },
  {
   "cell_type": "code",
   "execution_count": null,
   "metadata": {},
   "outputs": [],
   "source": [
    "noraml_txns = get_normal_txns_by_datetime(address)"
   ]
  },
  {
   "cell_type": "code",
   "execution_count": null,
   "metadata": {},
   "outputs": [],
   "source": [
    "noraml_txns"
   ]
  },
  {
   "cell_type": "code",
   "execution_count": null,
   "metadata": {},
   "outputs": [],
   "source": [
    "def get_internal_txns_by_datetime(address):\n",
    "    \n",
    "    \"\"\"\n",
    "    Get normal txns by date time\n",
    "    \"\"\"\n",
    "    \n",
    "    txns_by_datetime = {}\n",
    "    \n",
    "    transactions_url = make_api_url(\"account\", \"txlistinternal\", address, startblock=0, endblock=99999999, page=1, offset=10000, sort=\"asc\")\n",
    "    response = get(transactions_url)\n",
    "    data = response.json()[\"result\"]\n",
    "    \n",
    "    data.sort(key=lambda x: int(x['timeStamp']))\n",
    "    \n",
    "    for d in data:\n",
    "        time = str(datetime.fromtimestamp(int(d[\"timeStamp\"]))).split(\" \")[0]\n",
    "        \n",
    "        if time in txns_by_datetime:\n",
    "            txns_by_datetime[time] += 1\n",
    "        else:\n",
    "            txns_by_datetime[time] = 1\n",
    "        \n",
    "    return txns_by_datetime"
   ]
  },
  {
   "cell_type": "code",
   "execution_count": null,
   "metadata": {},
   "outputs": [],
   "source": [
    "internal_txns_datetime = get_internal_txns_by_datetime(address2)"
   ]
  },
  {
   "cell_type": "code",
   "execution_count": null,
   "metadata": {},
   "outputs": [],
   "source": [
    "internal_txns_datetime"
   ]
  },
  {
   "cell_type": "code",
   "execution_count": null,
   "metadata": {},
   "outputs": [],
   "source": [
    "tick_spacing = len(internal_txns_datetime)/7 # x軸密集度\n",
    "\n",
    "fig = plt.figure(figsize=(10, 8)) # 寬10 長8\n",
    "gs = GridSpec(1, 1) # 設立1x1的網格\n",
    "\n",
    "ax = plt.subplot(gs[0, 0]) # 子圖ax在網格的[0, 0]\n",
    "ax.xaxis.set_major_locator(mticker.MultipleLocator(tick_spacing))\n",
    "\n",
    "ax.plot_date(list(internal_txns_datetime.keys()), list(internal_txns_datetime.values()), linestyle ='solid')"
   ]
  },
  {
   "cell_type": "markdown",
   "metadata": {},
   "source": [
    "### Ploting txns (nomal) sum by datetime"
   ]
  },
  {
   "cell_type": "code",
   "execution_count": null,
   "metadata": {},
   "outputs": [],
   "source": [
    "normal_txns_datetime = get_normal_txns_by_datetime(address2)"
   ]
  },
  {
   "cell_type": "code",
   "execution_count": null,
   "metadata": {},
   "outputs": [],
   "source": [
    "tick_spacing = len(normal_txns_datetime)/7 # x軸密集度\n",
    "\n",
    "fig = plt.figure(figsize=(10, 8)) # 寬10 長8\n",
    "gs = GridSpec(1, 1) # 設立1x1的網格\n",
    "\n",
    "ax = plt.subplot(gs[0, 0]) # 子圖ax在網格的[0, 0]\n",
    "ax.xaxis.set_major_locator(mticker.MultipleLocator(tick_spacing))\n",
    "\n",
    "ax.plot_date(list(normal_txns_datetime.keys()), list(normal_txns_datetime.values()), linestyle ='solid')"
   ]
  },
  {
   "cell_type": "markdown",
   "metadata": {},
   "source": [
    "### Ploting txns (nomal and internal) sum by datetime"
   ]
  },
  {
   "cell_type": "code",
   "execution_count": null,
   "metadata": {},
   "outputs": [],
   "source": [
    "txns_datetime = get_txns_sum_by_datetime(address2)"
   ]
  },
  {
   "cell_type": "code",
   "execution_count": null,
   "metadata": {
    "scrolled": false
   },
   "outputs": [],
   "source": [
    "tick_spacing = len(txns_datetime)/7 # x軸密集度\n",
    "\n",
    "fig = plt.figure(figsize=(10, 8)) # 寬10 長8\n",
    "gs = GridSpec(1, 1) # 設立1x1的網格\n",
    "\n",
    "ax = plt.subplot(gs[0, 0]) # 子圖ax在網格的[0, 0]\n",
    "ax.xaxis.set_major_locator(mticker.MultipleLocator(tick_spacing))\n",
    "\n",
    "ax.plot_date(list(txns_datetime.keys()), list(txns_datetime.values()), linestyle ='solid')"
   ]
  }
 ],
 "metadata": {
  "kernelspec": {
   "display_name": "Python 3.8.3 ('base')",
   "language": "python",
   "name": "python3"
  },
  "language_info": {
   "codemirror_mode": {
    "name": "ipython",
    "version": 3
   },
   "file_extension": ".py",
   "mimetype": "text/x-python",
   "name": "python",
   "nbconvert_exporter": "python",
   "pygments_lexer": "ipython3",
   "version": "3.8.3"
  },
  "vscode": {
   "interpreter": {
    "hash": "631926b96873d2007fbe5ba14401cac9ce99e5e76ded0bffc18be58f3fefa61b"
   }
  }
 },
 "nbformat": 4,
 "nbformat_minor": 4
}
