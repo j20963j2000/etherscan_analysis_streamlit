{
 "cells": [
  {
   "cell_type": "code",
   "execution_count": 2,
   "metadata": {},
   "outputs": [],
   "source": [
    "API_KEY = \"PER4V6RYCAU4TZ54M69D9GXHWNVKX6DY7Z\"\n",
    "BASE_URL = \"https://api.etherscan.io/api\"\n",
    "ETHER_VALUE = 10 ** 18\n",
    "address = \"0x73bceb1cd57c711feac4224d062b0f6ff338501e\"\n",
    "address2 = \"0xddbd2b932c763ba5b1b7ae3b362eac3e8d40121a\""
   ]
  },
  {
   "cell_type": "code",
   "execution_count": 3,
   "metadata": {},
   "outputs": [
    {
     "data": {
      "text/plain": [
       "42"
      ]
     },
     "execution_count": 3,
     "metadata": {},
     "output_type": "execute_result"
    }
   ],
   "source": [
    "len(\"0x73bceb1cd57c711feac4224d062b0f6ff338501e\")"
   ]
  },
  {
   "cell_type": "code",
   "execution_count": 4,
   "metadata": {},
   "outputs": [],
   "source": [
    "import pandas as pd\n",
    "from requests import get\n",
    "from matplotlib import pyplot as plt\n",
    "from datetime import datetime\n",
    "\n",
    "import matplotlib.ticker as mticker\n",
    "from matplotlib.gridspec import GridSpec # 畫圖網格佈局"
   ]
  },
  {
   "cell_type": "code",
   "execution_count": 174,
   "metadata": {},
   "outputs": [],
   "source": [
    "def make_sourcecode_api_url(address, **kwargs):\n",
    "    url = BASE_URL + f\"?module=contract&action=getsourcecode&address={address}&apikey={API_KEY}\"\n",
    "\n",
    "    for key, value in kwargs.items():\n",
    "        url += f\"&{key}={value}\"\n",
    "\n",
    "    return url"
   ]
  },
  {
   "cell_type": "code",
   "execution_count": 235,
   "metadata": {},
   "outputs": [],
   "source": [
    "contract_address = \"0x283af0b28c62c092c9727f1ee09c02ca627eb7f5\""
   ]
  },
  {
   "cell_type": "code",
   "execution_count": 236,
   "metadata": {},
   "outputs": [],
   "source": [
    "responce = get(make_sourcecode_api_url(contract_address)).json()"
   ]
  },
  {
   "cell_type": "code",
   "execution_count": 241,
   "metadata": {},
   "outputs": [],
   "source": [
    "def get_contract_name(contract_address):\n",
    "    responce = get(make_sourcecode_api_url(contract_address)).json()\n",
    "    name = responce[\"result\"][0][\"ContractName\"]\n",
    "    return name"
   ]
  },
  {
   "cell_type": "code",
   "execution_count": 237,
   "metadata": {},
   "outputs": [
    {
     "data": {
      "text/plain": [
       "dict_keys(['SourceCode', 'ABI', 'ContractName', 'CompilerVersion', 'OptimizationUsed', 'Runs', 'ConstructorArguments', 'EVMVersion', 'Library', 'LicenseType', 'Proxy', 'Implementation', 'SwarmSource'])"
      ]
     },
     "execution_count": 237,
     "metadata": {},
     "output_type": "execute_result"
    }
   ],
   "source": [
    "responce[\"result\"][0].keys()"
   ]
  },
  {
   "cell_type": "code",
   "execution_count": 239,
   "metadata": {},
   "outputs": [],
   "source": [
    "name = responce[\"result\"][0][\"ContractName\"]"
   ]
  },
  {
   "cell_type": "code",
   "execution_count": 240,
   "metadata": {},
   "outputs": [
    {
     "data": {
      "text/plain": [
       "'ETHRegistrarController'"
      ]
     },
     "execution_count": 240,
     "metadata": {},
     "output_type": "execute_result"
    }
   ],
   "source": [
    "name"
   ]
  },
  {
   "cell_type": "markdown",
   "metadata": {},
   "source": [
    "### Build up class"
   ]
  },
  {
   "cell_type": "code",
   "execution_count": 169,
   "metadata": {},
   "outputs": [],
   "source": [
    "class Get_address_details():\n",
    "    \n",
    "    def __init__(self, address):\n",
    "       \n",
    "        self.address = address\n",
    "        self.BASE_URL = \"https://api.etherscan.io/api\"\n",
    "        self.ETHER_VALUE = 10 ** 18\n",
    "        self.API_KEY = \"PER4V6RYCAU4TZ54M69D9GXHWNVKX6DY7Z\"\n",
    "        \n",
    "    def make_api_url(self, module, action, **kwargs):\n",
    "        url = self.BASE_URL + f\"?module={module}&action={action}&address={self.address}&apikey={self.API_KEY}\"\n",
    "\n",
    "        for key, value in kwargs.items():\n",
    "            url += f\"&{key}={value}\"\n",
    "\n",
    "        return url\n",
    "    \n",
    "    def make_hash_api_url(self, module, action, txhash, **kwargs):\n",
    "        url = self.BASE_URL + f\"?module={module}&action={action}&txhash={txhash}&apikey={self.API_KEY}\"\n",
    "        \n",
    "        for key, value in kwargs.items():\n",
    "            url += f\"&{key}={value}\"\n",
    "\n",
    "        return url\n",
    "    \n",
    "    def get_txns_from_txnhash(self, txhash):\n",
    "        txn_url = self.make_hash_api_url(\"account\", \"txlistinternal\", txhash)\n",
    "        responce = get(txn_url)\n",
    "        data = responce.json()\n",
    "        \n",
    "        return data[\"result\"]\n",
    "        \n",
    "    def get_account_balance(self):\n",
    "        balance_url = self.make_api_url(\"account\", \"balance\", tag=\"latest\")\n",
    "        response = get(balance_url)\n",
    "        data = response.json()\n",
    "\n",
    "        value = int(data[\"result\"]) / ETHER_VALUE\n",
    "        return value\n",
    "    \n",
    "    def get_all_txns(self):\n",
    "        \"\"\"\n",
    "        Get all txns \n",
    "        \"\"\"\n",
    "        transactions_url = self.make_api_url(\"account\", \"txlist\", startblock=0, endblock=99999999, page=1, offset=10000, sort=\"asc\")\n",
    "        response = get(transactions_url)\n",
    "        nor_data = response.json()[\"result\"]\n",
    "        nor_df = pd.DataFrame(nor_data)\n",
    "        nor_df.insert(1, \"txn_type\", value =\"normal\")\n",
    "        \n",
    "        internal_tx_url = self.make_api_url(\"account\", \"txlistinternal\", startblock=0, endblock=99999999, page=1, offset=10000, sort=\"asc\")\n",
    "        in_response = get(internal_tx_url)\n",
    "        in_data = in_response.json()[\"result\"]\n",
    "        in_df = pd.DataFrame(in_data)\n",
    "        in_df.insert(1, \"txn_type\", value = \"internal\")\n",
    "        \n",
    "        data_df = pd.concat([nor_df, in_df], join = \"outer\")\n",
    "        \n",
    "        new_time_list = []\n",
    "        for idx, timestamp in enumerate(data_df[\"timeStamp\"]):\n",
    "            data_df[\"timeStamp\"][idx] = int(timestamp)\n",
    "            new_time = str(datetime.fromtimestamp(int(timestamp))).split(\" \")[0]\n",
    "            new_time_list.append(new_time)\n",
    "        data_df.insert(1, \"datetime\", new_time_list)\n",
    "        data_df[\"datetime\"] = pd.to_datetime(data_df[\"datetime\"], format=\"%Y-%m-%d\")\n",
    "        date_df_out = data_df.set_index(\"datetime\")\n",
    "        # data_df.reset_index(inplace=True, drop=True)\n",
    "        \n",
    "        return date_df_out\n",
    "    \n",
    "    def get_internal_txns(self):\n",
    "        internal_tx_url = self.make_api_url(\"account\", \"txlistinternal\", startblock=0, endblock=99999999, page=1, offset=10000, sort=\"asc\")\n",
    "        in_response = get(internal_tx_url)\n",
    "        in_data = in_response.json()[\"result\"]\n",
    "        # data_df = pd.DataFrame(in_data)\n",
    "\n",
    "        # new_time_list = []\n",
    "        # for idx, timestamp in enumerate(data_df[\"timeStamp\"]):\n",
    "        #     data_df[\"timeStamp\"][idx] = int(timestamp)\n",
    "        #     new_time = str(datetime.fromtimestamp(int(timestamp))).split(\" \")[0]\n",
    "        #     new_time_list.append(new_time)\n",
    "        # data_df.insert(1, \"datetime\", new_time_list)\n",
    "        # data_df[\"datetime\"] = pd.to_datetime(data_df[\"datetime\"], format=\"%Y-%m-%d\")\n",
    "        # date_df_out = data_df.set_index(\"datetime\")\n",
    "        # data_df.reset_index(inplace=True, drop=True)\n",
    "        \n",
    "        return in_data"
   ]
  },
  {
   "cell_type": "code",
   "execution_count": 170,
   "metadata": {},
   "outputs": [],
   "source": [
    "def get_txn_counts(address_df, txn_type, txn_time):\n",
    "\n",
    "    if txn_type == \"all\" and txn_time == \"all\":\n",
    "        year_list = {str(i):len(address_df.loc[str(i)]) for i in range(2015, 2023)}\n",
    "        result = pd.DataFrame(list(year_list.items()), columns = [\"year\", \"counts\"])\n",
    "        return result\n",
    "    \n",
    "    elif txn_type == \"all\" and txn_time != \"all\":\n",
    "        year_list_output = {str(month):0 for month in range(1, 13)}\n",
    "        month_count = {str(i):len(address_df.loc[\"{}-{}\".format(txn_time, i)]) for i in range(1, 13)}\n",
    "        year_list_output.update(month_count)\n",
    "        result = pd.DataFrame(list(year_list_output.items()), columns = [\"month\", \"counts\"])\n",
    "        return result\n",
    "    \n",
    "    elif txn_type != \"all\" and txn_time == \"all\":\n",
    "        mask = address_df[\"txn_type\"] == txn_type\n",
    "        year_list = {str(i):len(address_df[mask].loc[str(i)]) for i in range(2015, 2023)}\n",
    "        result = pd.DataFrame(list(year_list.items()), columns = [\"year\", \"counts\"])\n",
    "        return result\n",
    "\n",
    "    else:            \n",
    "        year_list_output = {str(month):0 for month in range(1, 13)}\n",
    "\n",
    "        for i in range(1, 13):\n",
    "            tmp_df = address_df.loc[\"{}-{}\".format(txn_time, i)]\n",
    "            tmp_mask = tmp_df[\"txn_type\"] == txn_type\n",
    "            year_list_output[str(i)] = len(tmp_df[tmp_mask])\n",
    "\n",
    "        result = pd.DataFrame(list(year_list_output.items()), columns = [\"month\", \"counts\"])\n",
    "        return result"
   ]
  },
  {
   "cell_type": "code",
   "execution_count": 339,
   "metadata": {},
   "outputs": [],
   "source": [
    "target_address = \"0xd8dA6BF26964aF9D7eEd9e03E53415D37aA96045\"\n",
    "get_txns = Get_address_details(target_address)"
   ]
  },
  {
   "cell_type": "code",
   "execution_count": 340,
   "metadata": {},
   "outputs": [],
   "source": [
    "pd.set_option(\"display.max_columns\", None)\n",
    "all_txn_result = get_txns.get_all_txns()"
   ]
  },
  {
   "cell_type": "code",
   "execution_count": null,
   "metadata": {},
   "outputs": [],
   "source": [
    "def get_contract_df(address_df, txn_type, txn_year, txn_month):\n",
    "    mask = all_txn_result[\"txn_type\"] == txn_type\n",
    "    tmp_df = all_txn_result[mask].loc[txn_year+\"-\"+txn_month]\n",
    "\n",
    "    contarct_list = []\n",
    "    contarct_set = set()\n",
    "    if len(tmp_df) != 0:\n",
    "        for data in tmp_df.iterrows(): \n",
    "            \n",
    "            from_ads = data[1][7]\n",
    "            to_ads = data[1][8]\n",
    "\n",
    "            contarct_set.add(from_ads)\n",
    "            contarct_set.add(to_ads)\n",
    "\n",
    "            hash = data[1][3]\n",
    "            value = int(data[1][9])/ETHER_VALUE\n",
    "            if from_ads == target_address.lower():\n",
    "                tmp_contract_dict = {\"hash\":hash, \"ads\":to_ads, \"value\":value}\n",
    "            if to_ads == target_address.lower():\n",
    "                tmp_contract_dict = {\"hash\":hash, \"ads\":from_ads, \"value\":value}\n",
    "            contarct_list.append(tmp_contract_dict)\n",
    "\n",
    "        contarct_set.remove(target_address.lower())\n",
    "        contract_df = pd.DataFrame(contarct_list)\n",
    "        contract_name = {}\n",
    "        for i in contarct_set:\n",
    "            name = get_contract_name(i)\n",
    "            if name == \"\":\n",
    "                contract_name[i] = \"unknown\"\n",
    "            else:\n",
    "                contract_name[i] = name\n",
    "        contract_df.insert(0, \"ContractName\", \"unknown\")\n",
    "        for ads in contract_name:\n",
    "            # df.loc[df.grades>50,'result']='success'\n",
    "            contract_df.loc[contract_df.ads == ads, \"ContractName\"] = contract_name[ads]\n",
    "    return contract_df"
   ]
  },
  {
   "cell_type": "code",
   "execution_count": 367,
   "metadata": {},
   "outputs": [],
   "source": [
    "txn_type = \"internal\"\n",
    "txn_year = \"2022\"\n",
    "txn_month = \"05\"\n",
    "\n",
    "mask = all_txn_result[\"txn_type\"] == txn_type"
   ]
  },
  {
   "cell_type": "code",
   "execution_count": 368,
   "metadata": {},
   "outputs": [],
   "source": [
    "tmp_df = all_txn_result[mask].loc[txn_year + \"-\" + txn_month]\n",
    "# tmp_df = all_txn_result[mask]\n",
    "\n",
    "# Index(['blockNumber', 'txn_type', 'timeStamp', 'hash', 'nonce', 'blockHash',\n",
    "#        'transactionIndex', 'from', 'to', 'value', 'gas', 'gasPrice', 'isError',\n",
    "#        'txreceipt_status', 'input', 'contractAddress', 'cumulativeGasUsed',\n",
    "#        'gasUsed', 'confirmations', 'methodId', 'functionName', 'type',\n",
    "#        'traceId', 'errCode'],\n",
    "#       dtype='object')"
   ]
  },
  {
   "cell_type": "code",
   "execution_count": 343,
   "metadata": {},
   "outputs": [],
   "source": [
    "contarct_list = []\n",
    "contarct_set = set()\n",
    "if len(tmp_df) != 0:\n",
    "    for data in tmp_df.iterrows(): \n",
    "        \n",
    "        from_ads = data[1][7]\n",
    "        to_ads = data[1][8]\n",
    "\n",
    "        contarct_set.add(from_ads)\n",
    "        contarct_set.add(to_ads)\n",
    "\n",
    "        hash = data[1][3]\n",
    "        value = int(data[1][9])/ETHER_VALUE\n",
    "        if from_ads == target_address.lower():\n",
    "            tmp_contract_dict = {\"hash\":hash, \"ads\":to_ads, \"value\":value}\n",
    "        if to_ads == target_address.lower():\n",
    "            tmp_contract_dict = {\"hash\":hash, \"ads\":from_ads, \"value\":value}\n",
    "        contarct_list.append(tmp_contract_dict)\n",
    "\n",
    "    contarct_set.remove(target_address.lower())\n",
    "# print(contarct_set)"
   ]
  },
  {
   "cell_type": "code",
   "execution_count": 344,
   "metadata": {},
   "outputs": [],
   "source": [
    "contract_df = pd.DataFrame(contarct_list)\n",
    "# output\n",
    "# \t                                             hash                                          ads\t   value\n",
    "# 0\t0x1c318f84339d3a2354e797261cdfdf592d35477c5c28...\t0x7e2d0fe0ffdd78c264f8d40d19acb7d04390c6e8\t0.000200\n",
    "# 1\t0x55c749e2dfefb46060a455ea2037319c802c8f76008d...\t0x7e2d0fe0ffdd78c264f8d40d19acb7d04390c6e8\t0.000060"
   ]
  },
  {
   "cell_type": "code",
   "execution_count": 338,
   "metadata": {},
   "outputs": [],
   "source": [
    "contract_name = {}\n",
    "for i in contarct_set:\n",
    "    name = get_contract_name(i)\n",
    "    if name == \"\":\n",
    "        contract_name[i] = \"unknown\"\n",
    "    else:\n",
    "        contract_name[i] = name\n",
    "\n",
    "# output\n",
    "# {'0xc9cd61c6f278dc6e4cd0f8fe6a8ad1d595b6ec8b': '',\n",
    "#  '0xb671c3883307cf05bb3dff77a9754e87b4347195': 'HFConditionalTransfer',\n",
    "#  '0x2136bbba2edca21afdddee838fff19ea70d10f03': 'EtherDelta',\n",
    "#  '0xfc209f3506ee55ea9c14ebe6df5bd45c1338f085': 'Deed',...}"
   ]
  },
  {
   "cell_type": "code",
   "execution_count": 345,
   "metadata": {},
   "outputs": [],
   "source": [
    "contract_df.insert(0, \"ContractName\", \"unknown\")"
   ]
  },
  {
   "cell_type": "code",
   "execution_count": 346,
   "metadata": {},
   "outputs": [],
   "source": [
    "for ads in contract_name:\n",
    "    # df.loc[df.grades>50,'result']='success'\n",
    "    contract_df.loc[contract_df.ads == ads, \"ContractName\"] = contract_name[ads]\n",
    "        "
   ]
  },
  {
   "cell_type": "code",
   "execution_count": 349,
   "metadata": {},
   "outputs": [
    {
     "data": {
      "text/html": [
       "<div>\n",
       "<style scoped>\n",
       "    .dataframe tbody tr th:only-of-type {\n",
       "        vertical-align: middle;\n",
       "    }\n",
       "\n",
       "    .dataframe tbody tr th {\n",
       "        vertical-align: top;\n",
       "    }\n",
       "\n",
       "    .dataframe thead th {\n",
       "        text-align: right;\n",
       "    }\n",
       "</style>\n",
       "<table border=\"1\" class=\"dataframe\">\n",
       "  <thead>\n",
       "    <tr style=\"text-align: right;\">\n",
       "      <th></th>\n",
       "      <th>ContractName</th>\n",
       "      <th>hash</th>\n",
       "      <th>ads</th>\n",
       "      <th>value</th>\n",
       "    </tr>\n",
       "  </thead>\n",
       "  <tbody>\n",
       "    <tr>\n",
       "      <th>0</th>\n",
       "      <td>unknown</td>\n",
       "      <td>0x1c318f84339d3a2354e797261cdfdf592d35477c5c28...</td>\n",
       "      <td>0x7e2d0fe0ffdd78c264f8d40d19acb7d04390c6e8</td>\n",
       "      <td>0.000200</td>\n",
       "    </tr>\n",
       "    <tr>\n",
       "      <th>1</th>\n",
       "      <td>unknown</td>\n",
       "      <td>0x55c749e2dfefb46060a455ea2037319c802c8f76008d...</td>\n",
       "      <td>0x7e2d0fe0ffdd78c264f8d40d19acb7d04390c6e8</td>\n",
       "      <td>0.000060</td>\n",
       "    </tr>\n",
       "    <tr>\n",
       "      <th>2</th>\n",
       "      <td>unknown</td>\n",
       "      <td>0x5f3564bdad98c20eb2c1aeff20d9b4530dc65bf9c627...</td>\n",
       "      <td>0x31e684ad5c33b741b4043bb28ece3b0c1bf9e4d4</td>\n",
       "      <td>0.000090</td>\n",
       "    </tr>\n",
       "    <tr>\n",
       "      <th>3</th>\n",
       "      <td>unknown</td>\n",
       "      <td>0x9795a2df6d1c486e9e3c02e65d60e1fc049345ee5a07...</td>\n",
       "      <td>0x31e684ad5c33b741b4043bb28ece3b0c1bf9e4d4</td>\n",
       "      <td>0.001000</td>\n",
       "    </tr>\n",
       "    <tr>\n",
       "      <th>4</th>\n",
       "      <td>unknown</td>\n",
       "      <td>0xc5fc74c372c3ba4317a982f06aeb6637b879ad069aea...</td>\n",
       "      <td>0x31e684ad5c33b741b4043bb28ece3b0c1bf9e4d4</td>\n",
       "      <td>0.000400</td>\n",
       "    </tr>\n",
       "    <tr>\n",
       "      <th>...</th>\n",
       "      <td>...</td>\n",
       "      <td>...</td>\n",
       "      <td>...</td>\n",
       "      <td>...</td>\n",
       "    </tr>\n",
       "    <tr>\n",
       "      <th>65</th>\n",
       "      <td>Proxy</td>\n",
       "      <td>0x68a5f55a8b81e644e1564575bacec34c86d08d555407...</td>\n",
       "      <td>0x220866b1a2219f40e72f5c628b65d54268ca3a9d</td>\n",
       "      <td>5000.000000</td>\n",
       "    </tr>\n",
       "    <tr>\n",
       "      <th>66</th>\n",
       "      <td>SwapRouter02</td>\n",
       "      <td>0x9846ec9e063cea51cc50bca3a8d52874bcd7029d072d...</td>\n",
       "      <td>0x68b3465833fb72a70ecdf485e0e4c7bd8665fc45</td>\n",
       "      <td>0.473917</td>\n",
       "    </tr>\n",
       "    <tr>\n",
       "      <th>67</th>\n",
       "      <td>ETHRegistrarController</td>\n",
       "      <td>0x0c1e0b69e4af1815834db4fdc946e2a24f7a7625c992...</td>\n",
       "      <td>0x283af0b28c62c092c9727f1ee09c02ca627eb7f5</td>\n",
       "      <td>0.001395</td>\n",
       "    </tr>\n",
       "    <tr>\n",
       "      <th>68</th>\n",
       "      <td>SwapRouter02</td>\n",
       "      <td>0x6e1a6db2dfb8f96cbcc5520f3c06aaa9aeaa1ba4457a...</td>\n",
       "      <td>0x68b3465833fb72a70ecdf485e0e4c7bd8665fc45</td>\n",
       "      <td>611.831148</td>\n",
       "    </tr>\n",
       "    <tr>\n",
       "      <th>69</th>\n",
       "      <td>SwapRouter02</td>\n",
       "      <td>0xc98668a082f62087b940feaf1b17b861728e1664c7ce...</td>\n",
       "      <td>0x68b3465833fb72a70ecdf485e0e4c7bd8665fc45</td>\n",
       "      <td>2.906127</td>\n",
       "    </tr>\n",
       "  </tbody>\n",
       "</table>\n",
       "<p>70 rows × 4 columns</p>\n",
       "</div>"
      ],
      "text/plain": [
       "              ContractName                                               hash  \\\n",
       "0                  unknown  0x1c318f84339d3a2354e797261cdfdf592d35477c5c28...   \n",
       "1                  unknown  0x55c749e2dfefb46060a455ea2037319c802c8f76008d...   \n",
       "2                  unknown  0x5f3564bdad98c20eb2c1aeff20d9b4530dc65bf9c627...   \n",
       "3                  unknown  0x9795a2df6d1c486e9e3c02e65d60e1fc049345ee5a07...   \n",
       "4                  unknown  0xc5fc74c372c3ba4317a982f06aeb6637b879ad069aea...   \n",
       "..                     ...                                                ...   \n",
       "65                   Proxy  0x68a5f55a8b81e644e1564575bacec34c86d08d555407...   \n",
       "66            SwapRouter02  0x9846ec9e063cea51cc50bca3a8d52874bcd7029d072d...   \n",
       "67  ETHRegistrarController  0x0c1e0b69e4af1815834db4fdc946e2a24f7a7625c992...   \n",
       "68            SwapRouter02  0x6e1a6db2dfb8f96cbcc5520f3c06aaa9aeaa1ba4457a...   \n",
       "69            SwapRouter02  0xc98668a082f62087b940feaf1b17b861728e1664c7ce...   \n",
       "\n",
       "                                           ads        value  \n",
       "0   0x7e2d0fe0ffdd78c264f8d40d19acb7d04390c6e8     0.000200  \n",
       "1   0x7e2d0fe0ffdd78c264f8d40d19acb7d04390c6e8     0.000060  \n",
       "2   0x31e684ad5c33b741b4043bb28ece3b0c1bf9e4d4     0.000090  \n",
       "3   0x31e684ad5c33b741b4043bb28ece3b0c1bf9e4d4     0.001000  \n",
       "4   0x31e684ad5c33b741b4043bb28ece3b0c1bf9e4d4     0.000400  \n",
       "..                                         ...          ...  \n",
       "65  0x220866b1a2219f40e72f5c628b65d54268ca3a9d  5000.000000  \n",
       "66  0x68b3465833fb72a70ecdf485e0e4c7bd8665fc45     0.473917  \n",
       "67  0x283af0b28c62c092c9727f1ee09c02ca627eb7f5     0.001395  \n",
       "68  0x68b3465833fb72a70ecdf485e0e4c7bd8665fc45   611.831148  \n",
       "69  0x68b3465833fb72a70ecdf485e0e4c7bd8665fc45     2.906127  \n",
       "\n",
       "[70 rows x 4 columns]"
      ]
     },
     "execution_count": 349,
     "metadata": {},
     "output_type": "execute_result"
    }
   ],
   "source": [
    "contract_df"
   ]
  },
  {
   "cell_type": "code",
   "execution_count": 288,
   "metadata": {},
   "outputs": [
    {
     "ename": "TypeError",
     "evalue": "string indices must be integers",
     "output_type": "error",
     "traceback": [
      "\u001b[1;31m---------------------------------------------------------------------------\u001b[0m",
      "\u001b[1;31mTypeError\u001b[0m                                 Traceback (most recent call last)",
      "\u001b[1;32mc:\\Users\\user\\Desktop\\etherscan_analysis\\streamlit\\notebook\\etherscan_analysis.ipynb Cell 20\u001b[0m in \u001b[0;36m<cell line: 2>\u001b[1;34m()\u001b[0m\n\u001b[0;32m      <a href='vscode-notebook-cell:/c%3A/Users/user/Desktop/etherscan_analysis/streamlit/notebook/etherscan_analysis.ipynb#ch0000060?line=0'>1</a>\u001b[0m contract_list \u001b[39m=\u001b[39m []\n\u001b[0;32m      <a href='vscode-notebook-cell:/c%3A/Users/user/Desktop/etherscan_analysis/streamlit/notebook/etherscan_analysis.ipynb#ch0000060?line=1'>2</a>\u001b[0m \u001b[39mfor\u001b[39;00m ads \u001b[39min\u001b[39;00m \u001b[39mlist\u001b[39m(contarct_set):\n\u001b[1;32m----> <a href='vscode-notebook-cell:/c%3A/Users/user/Desktop/etherscan_analysis/streamlit/notebook/etherscan_analysis.ipynb#ch0000060?line=2'>3</a>\u001b[0m     name \u001b[39m=\u001b[39m get_contract_name(ads)\n\u001b[0;32m      <a href='vscode-notebook-cell:/c%3A/Users/user/Desktop/etherscan_analysis/streamlit/notebook/etherscan_analysis.ipynb#ch0000060?line=3'>4</a>\u001b[0m     result \u001b[39m=\u001b[39m {name : ads}\n\u001b[0;32m      <a href='vscode-notebook-cell:/c%3A/Users/user/Desktop/etherscan_analysis/streamlit/notebook/etherscan_analysis.ipynb#ch0000060?line=4'>5</a>\u001b[0m     \u001b[39m# print(name)\u001b[39;00m\n",
      "\u001b[1;32mc:\\Users\\user\\Desktop\\etherscan_analysis\\streamlit\\notebook\\etherscan_analysis.ipynb Cell 20\u001b[0m in \u001b[0;36mget_contract_name\u001b[1;34m(contract_address)\u001b[0m\n\u001b[0;32m      <a href='vscode-notebook-cell:/c%3A/Users/user/Desktop/etherscan_analysis/streamlit/notebook/etherscan_analysis.ipynb#ch0000060?line=0'>1</a>\u001b[0m \u001b[39mdef\u001b[39;00m \u001b[39mget_contract_name\u001b[39m(contract_address):\n\u001b[0;32m      <a href='vscode-notebook-cell:/c%3A/Users/user/Desktop/etherscan_analysis/streamlit/notebook/etherscan_analysis.ipynb#ch0000060?line=1'>2</a>\u001b[0m     responce \u001b[39m=\u001b[39m get(make_sourcecode_api_url(contract_address))\u001b[39m.\u001b[39mjson()\n\u001b[1;32m----> <a href='vscode-notebook-cell:/c%3A/Users/user/Desktop/etherscan_analysis/streamlit/notebook/etherscan_analysis.ipynb#ch0000060?line=2'>3</a>\u001b[0m     name \u001b[39m=\u001b[39m responce[\u001b[39m\"\u001b[39;49m\u001b[39mresult\u001b[39;49m\u001b[39m\"\u001b[39;49m][\u001b[39m0\u001b[39;49m][\u001b[39m\"\u001b[39;49m\u001b[39mContractName\u001b[39;49m\u001b[39m\"\u001b[39;49m]\n\u001b[0;32m      <a href='vscode-notebook-cell:/c%3A/Users/user/Desktop/etherscan_analysis/streamlit/notebook/etherscan_analysis.ipynb#ch0000060?line=3'>4</a>\u001b[0m     \u001b[39mreturn\u001b[39;00m name\n",
      "\u001b[1;31mTypeError\u001b[0m: string indices must be integers"
     ]
    }
   ],
   "source": [
    "contract_list = []\n",
    "for hash_ads in list(contarct_set):\n",
    "    hash = hash_ads[0]\n",
    "    ads = hash_ads[1]\n",
    "    name = get_contract_name(ads)\n",
    "    result = {name : ads}\n",
    "    # print(name)\n",
    "    if name == \"\":\n",
    "        result = {\"unknown\" : ads}\n",
    "        print(result)\n",
    "    else:\n",
    "        print(result)\n",
    "    contract_list.append(result)"
   ]
  },
  {
   "cell_type": "code",
   "execution_count": 284,
   "metadata": {},
   "outputs": [
    {
     "name": "stdout",
     "output_type": "stream",
     "text": [
      "dict_values(['0xc9cd61c6f278dc6e4cd0f8fe6a8ad1d595b6ec8b'])\n",
      "Empty DataFrame\n",
      "Columns: [blockNumber, txn_type, timeStamp, hash, nonce, blockHash, transactionIndex, from, to, value, gas, gasPrice, isError, txreceipt_status, input, contractAddress, cumulativeGasUsed, gasUsed, confirmations, methodId, functionName, type, traceId, errCode]\n",
      "Index: []\n"
     ]
    }
   ],
   "source": [
    "for contra in contract_list:\n",
    "    print(contra.values())\n",
    "    print(tmp_df[tmp_df[\"from\"] == contra.values()])\n",
    "    break"
   ]
  },
  {
   "cell_type": "code",
   "execution_count": 234,
   "metadata": {},
   "outputs": [
    {
     "data": {
      "text/plain": [
       "''"
      ]
     },
     "execution_count": 234,
     "metadata": {},
     "output_type": "execute_result"
    }
   ],
   "source": [
    "get_contract_name(\"0x283af0b28c62c092c9727f1ee09c02ca627eb7f5\")"
   ]
  },
  {
   "cell_type": "code",
   "execution_count": 173,
   "metadata": {
    "scrolled": true
   },
   "outputs": [
    {
     "name": "stdout",
     "output_type": "stream",
     "text": [
      "From : 0x7e2d0fe0ffdd78c264f8d40d19acb7d04390c6e8\n",
      "To : 0xd8da6bf26964af9d7eed9e03e53415d37aa96045\n",
      "Value : 0.0002\n",
      "Type : call\n",
      "Hash : 0x1c318f84339d3a2354e797261cdfdf592d35477c5c28e5f62d46dbc97aa84e38\n",
      "==========\n",
      "From : 0x7e2d0fe0ffdd78c264f8d40d19acb7d04390c6e8\n",
      "To : 0xd8da6bf26964af9d7eed9e03e53415d37aa96045\n",
      "Value : 6e-05\n",
      "Type : call\n",
      "Hash : 0x55c749e2dfefb46060a455ea2037319c802c8f76008dc8a4d3fdf2c99dc6201c\n",
      "==========\n",
      "From : 0x31e684ad5c33b741b4043bb28ece3b0c1bf9e4d4\n",
      "To : 0xd8da6bf26964af9d7eed9e03e53415d37aa96045\n",
      "Value : 9e-05\n",
      "Type : call\n",
      "Hash : 0x5f3564bdad98c20eb2c1aeff20d9b4530dc65bf9c6274d4476795a13d100f57c\n",
      "==========\n",
      "From : 0x31e684ad5c33b741b4043bb28ece3b0c1bf9e4d4\n",
      "To : 0xd8da6bf26964af9d7eed9e03e53415d37aa96045\n",
      "Value : 0.001\n",
      "Type : call\n",
      "Hash : 0x9795a2df6d1c486e9e3c02e65d60e1fc049345ee5a0703534c9bbcaa7fdc4d85\n",
      "==========\n",
      "From : 0x31e684ad5c33b741b4043bb28ece3b0c1bf9e4d4\n",
      "To : 0xd8da6bf26964af9d7eed9e03e53415d37aa96045\n",
      "Value : 0.0004\n",
      "Type : call\n",
      "Hash : 0xc5fc74c372c3ba4317a982f06aeb6637b879ad069aea0c8825721e34dddb67c8\n",
      "==========\n",
      "From : 0x31e684ad5c33b741b4043bb28ece3b0c1bf9e4d4\n",
      "To : 0xd8da6bf26964af9d7eed9e03e53415d37aa96045\n",
      "Value : 0.0002\n",
      "Type : call\n",
      "Hash : 0x88aa0368ec9983aa85a778c19c092cfae88c64e596b420f868de7be1b332e958\n",
      "==========\n",
      "From : 0x31e684ad5c33b741b4043bb28ece3b0c1bf9e4d4\n",
      "To : 0xd8da6bf26964af9d7eed9e03e53415d37aa96045\n",
      "Value : 0.0002\n",
      "Type : call\n",
      "Hash : 0x012616c16fc2dbffe6dfba0f450aca81624743a684e176cea208e499a1af9b62\n",
      "==========\n",
      "From : 0x31e684ad5c33b741b4043bb28ece3b0c1bf9e4d4\n",
      "To : 0xd8da6bf26964af9d7eed9e03e53415d37aa96045\n",
      "Value : 0.0001\n",
      "Type : call\n",
      "Hash : 0x18aa7df33b8ea1f3248535c0d869f8e4b68bde28be2e7de63f7fda71fe5163bd\n",
      "==========\n",
      "From : 0x31e684ad5c33b741b4043bb28ece3b0c1bf9e4d4\n",
      "To : 0xd8da6bf26964af9d7eed9e03e53415d37aa96045\n",
      "Value : 0.0003\n",
      "Type : call\n",
      "Hash : 0x7596acfd6e9c38806965636e20d4a507b86047eb9d790d44c7412035651cf565\n",
      "==========\n",
      "From : 0xb1247665ae0cbba65343cb7382d29b077ec47927\n",
      "To : 0xd8da6bf26964af9d7eed9e03e53415d37aa96045\n",
      "Value : 0.01\n",
      "Type : call\n",
      "Hash : 0xc965aed8cd186c537c2b07d9d58aeac4ffc5b80dc30d1e06399fa47b2c8a51a2\n",
      "==========\n",
      "From : 0x90786bf95df3f62c774695b166e6adfc8a0d18a5\n",
      "To : 0xd8da6bf26964af9d7eed9e03e53415d37aa96045\n",
      "Value : 0.001\n",
      "Type : call\n",
      "Hash : 0xbe210f21792b97df342816668044b7b192447bd77fef17cb02db27a542931d5a\n",
      "==========\n",
      "From : 0x90786bf95df3f62c774695b166e6adfc8a0d18a5\n",
      "To : 0xd8da6bf26964af9d7eed9e03e53415d37aa96045\n",
      "Value : 0.0005025\n",
      "Type : call\n",
      "Hash : 0x785920c36a7fe2cc79c2c9bbff98c3840227abfb4ee5ef8c1ea35bf8264ea751\n",
      "==========\n",
      "From : 0xb1247665ae0cbba65343cb7382d29b077ec47927\n",
      "To : 0xd8da6bf26964af9d7eed9e03e53415d37aa96045\n",
      "Value : 0.001\n",
      "Type : call\n",
      "Hash : 0xb38d713e047cfdfd0dfdea47b8acd38581cca77bd66cc10623fc6527f943168c\n",
      "==========\n",
      "From : 0x31e684ad5c33b741b4043bb28ece3b0c1bf9e4d4\n",
      "To : 0xd8da6bf26964af9d7eed9e03e53415d37aa96045\n",
      "Value : 0.0018\n",
      "Type : call\n",
      "Hash : 0x11c5cdb9251257d33c8898ddfbee29fb26fff4e8da581f842b6526dd2d0e11ef\n",
      "==========\n",
      "From : 0xb1247665ae0cbba65343cb7382d29b077ec47927\n",
      "To : 0xd8da6bf26964af9d7eed9e03e53415d37aa96045\n",
      "Value : 0.000701\n",
      "Type : call\n",
      "Hash : 0x21131263a9054d252d08877de34de6b26ac85bfb5585c2d61a92b217755ed9e2\n",
      "==========\n",
      "From : 0x3d9e942f183a7e564dd27479081f745a4f081f28\n",
      "To : 0xd8da6bf26964af9d7eed9e03e53415d37aa96045\n",
      "Value : 0.0001\n",
      "Type : call\n",
      "Hash : 0x68b21fdd29561d118ef65a9596d15e06814ba137562cac46b10747016ff566ba\n",
      "==========\n",
      "From : 0x31e684ad5c33b741b4043bb28ece3b0c1bf9e4d4\n",
      "To : 0xd8da6bf26964af9d7eed9e03e53415d37aa96045\n",
      "Value : 0.0001\n",
      "Type : call\n",
      "Hash : 0x37b859272bf5b7687ecd2fd1bd9d4356b8ff8b8ac397d92a397f047355b9a1c9\n",
      "==========\n",
      "From : 0xbe6b26a4ca07991fc51acd56b2e3091ca4ad610b\n",
      "To : 0xd8da6bf26964af9d7eed9e03e53415d37aa96045\n",
      "Value : 0.02\n",
      "Type : call\n",
      "Hash : 0x2310ba5f19192543dd46f4f95ad56d3fee0b6cd80063cd99b4249c68c2876f40\n",
      "==========\n",
      "From : 0xcd8b73c03ba077336c619751e18690bda5b26ff2\n",
      "To : 0xd8da6bf26964af9d7eed9e03e53415d37aa96045\n",
      "Value : 0.04\n",
      "Type : call\n",
      "Hash : 0xdba55d1d155d16cd7aced62d071069f3264be9ca2d93c4318e85458b29ad2d7b\n",
      "==========\n",
      "From : 0xa68f65bb1169359df1a7c66113c5b4e9a9bbb5d6\n",
      "To : 0xd8da6bf26964af9d7eed9e03e53415d37aa96045\n",
      "Value : 0.02\n",
      "Type : call\n",
      "Hash : 0x3c8f323e984896650e8108bbb42f0081bd435b77879ad38af741300fe8035b30\n",
      "==========\n",
      "From : 0xa68f65bb1169359df1a7c66113c5b4e9a9bbb5d6\n",
      "To : 0xd8da6bf26964af9d7eed9e03e53415d37aa96045\n",
      "Value : 0.01\n",
      "Type : call\n",
      "Hash : 0x3c8f323e984896650e8108bbb42f0081bd435b77879ad38af741300fe8035b30\n",
      "==========\n",
      "From : 0xa68f65bb1169359df1a7c66113c5b4e9a9bbb5d6\n",
      "To : 0xd8da6bf26964af9d7eed9e03e53415d37aa96045\n",
      "Value : 0.02\n",
      "Type : call\n",
      "Hash : 0x3c8f323e984896650e8108bbb42f0081bd435b77879ad38af741300fe8035b30\n",
      "==========\n",
      "From : 0xa68f65bb1169359df1a7c66113c5b4e9a9bbb5d6\n",
      "To : 0xd8da6bf26964af9d7eed9e03e53415d37aa96045\n",
      "Value : 0.005\n",
      "Type : call\n",
      "Hash : 0x3c8f323e984896650e8108bbb42f0081bd435b77879ad38af741300fe8035b30\n",
      "==========\n",
      "From : 0x79ecdb8c66c6d9e6deb5ef361fb4c360a522f995\n",
      "To : 0xd8da6bf26964af9d7eed9e03e53415d37aa96045\n",
      "Value : 0.06\n",
      "Type : call\n",
      "Hash : 0xbbdffe26cb1c36a6c690da830be781fe45a6b777068580c2b48577601ffe06cc\n",
      "==========\n",
      "From : 0x0e7100e836150589b2be7030523d23c86a2093b5\n",
      "To : 0xd8da6bf26964af9d7eed9e03e53415d37aa96045\n",
      "Value : 0.02\n",
      "Type : call\n",
      "Hash : 0x1f79afee7c90102751ec5fab56452464343a020903cd1cc0c011411523e3ce5d\n",
      "==========\n",
      "From : 0x0e7100e836150589b2be7030523d23c86a2093b5\n",
      "To : 0xd8da6bf26964af9d7eed9e03e53415d37aa96045\n",
      "Value : 0.02\n",
      "Type : call\n",
      "Hash : 0x1f79afee7c90102751ec5fab56452464343a020903cd1cc0c011411523e3ce5d\n",
      "==========\n",
      "From : 0x0e7100e836150589b2be7030523d23c86a2093b5\n",
      "To : 0xd8da6bf26964af9d7eed9e03e53415d37aa96045\n",
      "Value : 0.005\n",
      "Type : call\n",
      "Hash : 0x1f79afee7c90102751ec5fab56452464343a020903cd1cc0c011411523e3ce5d\n",
      "==========\n",
      "From : 0x4023f93668b132e1903c6a4841721ff197ae7b03\n",
      "To : 0xd8da6bf26964af9d7eed9e03e53415d37aa96045\n",
      "Value : 0.06\n",
      "Type : call\n",
      "Hash : 0xdf9058baa2687a9415ec2899b8b469dee77c702f92d8faa7cf2211b1c19b4e8c\n",
      "==========\n",
      "From : 0x13c1b06b5762da081e45f302b0d7696a7fa1f526\n",
      "To : 0xd8da6bf26964af9d7eed9e03e53415d37aa96045\n",
      "Value : 0.01\n",
      "Type : call\n",
      "Hash : 0xf1230728749e0d85241b9d134dabcf4cbd7a89fe3756d9f6f6764a532fbc44b5\n",
      "==========\n",
      "From : 0xeb661d12171b066a4d0523dbe9d7ed309353eb60\n",
      "To : 0xd8da6bf26964af9d7eed9e03e53415d37aa96045\n",
      "Value : 0.06\n",
      "Type : call\n",
      "Hash : 0x72ef45ec1834fed973431fbb6b97ab825c2ee61e7f5f2425d8880a8d6968f80c\n",
      "==========\n",
      "From : 0x12191e219b41d144cc6f9a8396e07bf9cdb891fb\n",
      "To : 0xd8da6bf26964af9d7eed9e03e53415d37aa96045\n",
      "Value : 0.035\n",
      "Type : call\n",
      "Hash : 0xec27e82e82276a17e6ab10ad800b34878df1d44ba5472b3b53b0473e7882c549\n",
      "==========\n",
      "From : 0x52e2a44945f28ee13ec7fcb9c44573f1de87f2f5\n",
      "To : 0xd8da6bf26964af9d7eed9e03e53415d37aa96045\n",
      "Value : 0.001\n",
      "Type : call\n",
      "Hash : 0xdfe8d461453b96402608f9562b91712a8c5ae72cdb0bde1721920099066b9c27\n",
      "==========\n",
      "From : 0xbf4ed7b27f1d666546e30d74d50d173d20bca754\n",
      "To : 0xd8da6bf26964af9d7eed9e03e53415d37aa96045\n",
      "Value : 0.01\n",
      "Type : call\n",
      "Hash : 0xa2d43ef6ec0b34ffe83628ccacc21df47858140e6a3fe5a33c078fede26ac109\n",
      "==========\n",
      "From : 0xb671c3883307cf05bb3dff77a9754e87b4347195\n",
      "To : 0xd8da6bf26964af9d7eed9e03e53415d37aa96045\n",
      "Value : 0.001\n",
      "Type : call\n",
      "Hash : 0x1e7d5594113e44ab96d723487f93c84b0cd75d22a4427225b3843cdb3a5e02a2\n",
      "==========\n",
      "From : 0xecf8f87f810ecf450940c9f60066b4a7a501d6a7\n",
      "To : 0xd8da6bf26964af9d7eed9e03e53415d37aa96045\n",
      "Value : 200.0\n",
      "Type : call\n",
      "Hash : 0x21dcda06b058231fe2ad081c9a68d5cbc2123ddf03ceed46b257d19ec9260751\n",
      "==========\n",
      "From : 0xaa1a6e3e6ef20068f7f8d8c835d2d22fd5116444\n",
      "To : 0xd8da6bf26964af9d7eed9e03e53415d37aa96045\n",
      "Value : 0.1\n",
      "Type : call\n",
      "Hash : 0x182452a1bc3bfde1a2e3a7a87e93c7ffd68b5f9420a39ee12f526988ee538ecb\n",
      "==========\n",
      "From : 0xaa1a6e3e6ef20068f7f8d8c835d2d22fd5116444\n",
      "To : 0xd8da6bf26964af9d7eed9e03e53415d37aa96045\n",
      "Value : 0.02\n",
      "Type : call\n",
      "Hash : 0x50617112e5190a45602362116af4ef45be6978bd0eada8ac072d767667f5485e\n",
      "==========\n",
      "From : 0xaa1a6e3e6ef20068f7f8d8c835d2d22fd5116444\n",
      "To : 0xd8da6bf26964af9d7eed9e03e53415d37aa96045\n",
      "Value : 9.98\n",
      "Type : call\n",
      "Hash : 0x07d49eb24109091fd276fb7b4d90023bef9e667a937c0466d42d4d551aa8941e\n",
      "==========\n",
      "From : 0xaa1a6e3e6ef20068f7f8d8c835d2d22fd5116444\n",
      "To : 0xd8da6bf26964af9d7eed9e03e53415d37aa96045\n",
      "Value : 990.0\n",
      "Type : call\n",
      "Hash : 0xae3e99aea979b969e0e8711e8dcdff72fbb6d77160ccfc7cd64da7784c1d4320\n",
      "==========\n",
      "From : 0xaa1a6e3e6ef20068f7f8d8c835d2d22fd5116444\n",
      "To : 0xd8da6bf26964af9d7eed9e03e53415d37aa96045\n",
      "Value : 100.0\n",
      "Type : call\n",
      "Hash : 0xf5faf3200e041bde4e70bcc5cd28649c7f94bf192a93d92d82a275c4e0b6bf8e\n",
      "==========\n",
      "From : 0xaa1a6e3e6ef20068f7f8d8c835d2d22fd5116444\n",
      "To : 0xd8da6bf26964af9d7eed9e03e53415d37aa96045\n",
      "Value : 8900.0\n",
      "Type : call\n",
      "Hash : 0x9d777a05048ef317c961dbc101006f45dcae69cc55200d2a4c4f762355e9faee\n",
      "==========\n",
      "From : 0xaa1a6e3e6ef20068f7f8d8c835d2d22fd5116444\n",
      "To : 0xd8da6bf26964af9d7eed9e03e53415d37aa96045\n",
      "Value : 40000.0\n",
      "Type : call\n",
      "Hash : 0xe8edc1f7c2e6d764f91088708293efe51741f9624bdb03ecb89fd2fb31596940\n",
      "==========\n",
      "From : 0xaa1a6e3e6ef20068f7f8d8c835d2d22fd5116444\n",
      "To : 0xd8da6bf26964af9d7eed9e03e53415d37aa96045\n",
      "Value : 0.03\n",
      "Type : call\n",
      "Hash : 0x33c85aa3d4414627ca94f4d222ad3ea257da5b85f486f12e0a3f4de3da1b4b7d\n",
      "==========\n",
      "From : 0xaa1a6e3e6ef20068f7f8d8c835d2d22fd5116444\n",
      "To : 0xd8da6bf26964af9d7eed9e03e53415d37aa96045\n",
      "Value : 0.04\n",
      "Type : call\n",
      "Hash : 0x26a1407d63f84cc35e7a78c700a060f5f4109bdce2ce43507f6e291a3e0d5dc2\n",
      "==========\n",
      "From : 0x2136bbba2edca21afdddee838fff19ea70d10f03\n",
      "To : 0xd8da6bf26964af9d7eed9e03e53415d37aa96045\n",
      "Value : 20.0\n",
      "Type : call\n",
      "Hash : 0xbbd3f43d1dd159e92cf952994243839215f86b25f7ff6536db2d823213446615\n",
      "==========\n",
      "From : 0xce77a9f979e700b13b8e27dd4dd9f38d383a7515\n",
      "To : 0xd8da6bf26964af9d7eed9e03e53415d37aa96045\n",
      "Value : 0.025\n",
      "Type : call\n",
      "Hash : 0xc683815f97c3de4972442448b5fa17aff31ec8f0d9e939f82234884ff989ac9e\n",
      "==========\n",
      "From : 0xaa1a6e3e6ef20068f7f8d8c835d2d22fd5116444\n",
      "To : 0xd8da6bf26964af9d7eed9e03e53415d37aa96045\n",
      "Value : 0.1\n",
      "Type : call\n",
      "Hash : 0xac6e6da52bf96d49985a69c130f1e2ca91a3790ca0fcf448583f81d283ad337e\n",
      "==========\n",
      "From : 0xa2af18e8cbf42298fe5013e129104610fb17476a\n",
      "To : 0xd8da6bf26964af9d7eed9e03e53415d37aa96045\n",
      "Value : 0.01\n",
      "Type : call\n",
      "Hash : 0x99521dd50d68632a870cbe5232db233683bd903f77a5923e4cf41ae50fa30994\n",
      "==========\n",
      "From : 0x9b27a23006b6612b2dfc840d0a25f4e347121d21\n",
      "To : 0xd8da6bf26964af9d7eed9e03e53415d37aa96045\n",
      "Value : 0.02\n",
      "Type : call\n",
      "Hash : 0x14873696d83810b10cb197f10efa1dd997ca1b5b230f2db19f1bf418c0a30f6a\n",
      "==========\n",
      "From : 0xe0a62fa7b2708bfd2f01c0e5e24080b011a5662b\n",
      "To : 0xd8da6bf26964af9d7eed9e03e53415d37aa96045\n",
      "Value : 0.01\n",
      "Type : call\n",
      "Hash : 0x3c892699d136e5fe0d51330b4fa754f78c8e3617404a4c456354afb73dd0a884\n",
      "==========\n",
      "From : 0x15ba299cd634698f86c348793935df129bf4ae27\n",
      "To : 0xd8da6bf26964af9d7eed9e03e53415d37aa96045\n",
      "Value : 0.005\n",
      "Type : call\n",
      "Hash : 0xaf2dbdb80e1e35e19e28a8ae6be7583927b7449eb2d8480ab472e653389f11b7\n",
      "==========\n",
      "From : 0xc9cd61c6f278dc6e4cd0f8fe6a8ad1d595b6ec8b\n",
      "To : 0xd8da6bf26964af9d7eed9e03e53415d37aa96045\n",
      "Value : 0.01\n",
      "Type : call\n",
      "Hash : 0xabe9c2c5fee2d2509312e77664229a252e04493ed8d6a0cdb57513d3cadcb22b\n",
      "==========\n",
      "From : 0xfc209f3506ee55ea9c14ebe6df5bd45c1338f085\n",
      "To : 0xd8da6bf26964af9d7eed9e03e53415d37aa96045\n",
      "Value : 36.63\n",
      "Type : call\n",
      "Hash : 0x6c104eeca1a773689575d6a3ac27b29f4fc4ff53aea7c6ad7c778527b3dab3d7\n",
      "==========\n",
      "From : 0xb24fe23d75e8dcc97c4a50a62f2fb2cfd237ab35\n",
      "To : 0xd8da6bf26964af9d7eed9e03e53415d37aa96045\n",
      "Value : 151.8\n",
      "Type : call\n",
      "Hash : 0xdd16deb1ea750037c3ed1cae5ca20ff9db0e664a5146e5a030137d277a9247f3\n",
      "==========\n",
      "From : 0xb24fe23d75e8dcc97c4a50a62f2fb2cfd237ab35\n",
      "To : 0xd8da6bf26964af9d7eed9e03e53415d37aa96045\n",
      "Value : 98.2\n",
      "Type : call\n",
      "Hash : 0xea30bda97a7e9afcca208d5a648e8ec1e98b245a8884bf589dec8f4aa332fb14\n",
      "==========\n",
      "From : 0xfc209f3506ee55ea9c14ebe6df5bd45c1338f085\n",
      "To : 0xd8da6bf26964af9d7eed9e03e53415d37aa96045\n",
      "Value : 13.37\n",
      "Type : call\n",
      "Hash : 0x9386f4c688be0d6007d35562d45a7de0c312e19711ba9b4e2cce57b0233a9726\n",
      "==========\n",
      "From : 0x910cbd523d972eb0a6f4cae4618ad62622b39dbf\n",
      "To : 0xd8da6bf26964af9d7eed9e03e53415d37aa96045\n",
      "Value : 9.9785\n",
      "Type : call\n",
      "Hash : 0x02fa6fd3307915a6e75df885006446fc686ddf34dfe1bfc3e79efe1f690b29d5\n",
      "==========\n",
      "From : 0x910cbd523d972eb0a6f4cae4618ad62622b39dbf\n",
      "To : 0xd8da6bf26964af9d7eed9e03e53415d37aa96045\n",
      "Value : 9.9735\n",
      "Type : call\n",
      "Hash : 0xe5fcc1f16aca9418109f1958658c19016649b193f9f3886b0cd14295a52d20a4\n",
      "==========\n",
      "From : 0x910cbd523d972eb0a6f4cae4618ad62622b39dbf\n",
      "To : 0xd8da6bf26964af9d7eed9e03e53415d37aa96045\n",
      "Value : 9.9789\n",
      "Type : call\n",
      "Hash : 0x245185a0c1a4c4de8d5119f1e11a42a492f2b3fbc6f2b98541d97850f3b5536a\n",
      "==========\n",
      "From : 0x910cbd523d972eb0a6f4cae4618ad62622b39dbf\n",
      "To : 0xd8da6bf26964af9d7eed9e03e53415d37aa96045\n",
      "Value : 9.9785\n",
      "Type : call\n",
      "Hash : 0xa49b0d8bf3d64da8921e141f14f554d2abd12d8550ec279a4cedb4eb5a9e4742\n",
      "==========\n",
      "From : 0x97a85469ce858d1dea17c186b348af9956eff33c\n",
      "To : 0xd8da6bf26964af9d7eed9e03e53415d37aa96045\n",
      "Value : 0.002\n",
      "Type : call\n",
      "Hash : 0xe97a4f7709e94db23918d614b07a4960b096c78eb0bd1af494a32d42659a95a5\n",
      "==========\n",
      "From : 0x220866b1a2219f40e72f5c628b65d54268ca3a9d\n",
      "To : 0xd8da6bf26964af9d7eed9e03e53415d37aa96045\n",
      "Value : 1.0\n",
      "Type : call\n",
      "Hash : 0x9e6fdf625fd806eb15df9deb65dbbc0048fc43b5b542f2da23d9f8de1ebaa7cd\n",
      "==========\n",
      "From : 0xa06c2b67e7435ce25a5969e49983ec3304d8e787\n",
      "To : 0xd8da6bf26964af9d7eed9e03e53415d37aa96045\n",
      "Value : 1.0\n",
      "Type : call\n",
      "Hash : 0x57f62a292b884616835546434d52be2eb056372e4c4a71ed5c8ac42e70dcc22f\n",
      "==========\n",
      "From : 0xfba34c7da885885c597b8eeab61fdc0eee7acf3c\n",
      "To : 0xd8da6bf26964af9d7eed9e03e53415d37aa96045\n",
      "Value : 3.524203094085e-06\n",
      "Type : call\n",
      "Hash : 0x611f153ab929885f1f92828fc3657f77fc98e3803c0dd5f500677663f3fb62f1\n",
      "==========\n",
      "From : 0x737901bea3eeb88459df9ef1be8ff3ae1b42a2ba\n",
      "To : 0xd8da6bf26964af9d7eed9e03e53415d37aa96045\n",
      "Value : 4e-05\n",
      "Type : call\n",
      "Hash : 0xcab2571b9ea9a28faef4d21e29433ca699192baf5a9d6daabc107d62d0850830\n",
      "==========\n",
      "From : 0x220866b1a2219f40e72f5c628b65d54268ca3a9d\n",
      "To : 0xd8da6bf26964af9d7eed9e03e53415d37aa96045\n",
      "Value : 5000.0\n",
      "Type : call\n",
      "Hash : 0x68a5f55a8b81e644e1564575bacec34c86d08d555407981f37798b80eb542d54\n",
      "==========\n",
      "From : 0x68b3465833fb72a70ecdf485e0e4c7bd8665fc45\n",
      "To : 0xd8da6bf26964af9d7eed9e03e53415d37aa96045\n",
      "Value : 0.47391725975189847\n",
      "Type : call\n",
      "Hash : 0x9846ec9e063cea51cc50bca3a8d52874bcd7029d072df89b81928a6b226fc99c\n",
      "==========\n",
      "From : 0x283af0b28c62c092c9727f1ee09c02ca627eb7f5\n",
      "To : 0xd8da6bf26964af9d7eed9e03e53415d37aa96045\n",
      "Value : 0.001395072462091716\n",
      "Type : call\n",
      "Hash : 0x0c1e0b69e4af1815834db4fdc946e2a24f7a7625c992709cdd86c507067ff95e\n",
      "==========\n",
      "From : 0x68b3465833fb72a70ecdf485e0e4c7bd8665fc45\n",
      "To : 0xd8da6bf26964af9d7eed9e03e53415d37aa96045\n",
      "Value : 611.8311481574274\n",
      "Type : call\n",
      "Hash : 0x6e1a6db2dfb8f96cbcc5520f3c06aaa9aeaa1ba4457aa305985aad2557ff82d2\n",
      "==========\n",
      "From : 0x68b3465833fb72a70ecdf485e0e4c7bd8665fc45\n",
      "To : 0xd8da6bf26964af9d7eed9e03e53415d37aa96045\n",
      "Value : 2.906127207741229\n",
      "Type : call\n",
      "Hash : 0xc98668a082f62087b940feaf1b17b861728e1664c7ce5a4643e762799c8f7bc2\n",
      "==========\n"
     ]
    }
   ],
   "source": [
    "for txn in get_txns.get_internal_txns():\n",
    "    print(\"From :\", txn[\"from\"])\n",
    "    print(\"To :\", txn[\"to\"])\n",
    "    print(\"Value :\", int(txn[\"value\"])/ETHER_VALUE)\n",
    "    print(\"Type :\", txn[\"type\"])\n",
    "    print(\"Hash :\", txn[\"hash\"])\n",
    "    print(\"=\"*10)"
   ]
  },
  {
   "cell_type": "code",
   "execution_count": null,
   "metadata": {
    "scrolled": true
   },
   "outputs": [],
   "source": [
    "get_txns.get_all_txns()"
   ]
  },
  {
   "cell_type": "code",
   "execution_count": 146,
   "metadata": {
    "scrolled": true
   },
   "outputs": [
    {
     "ename": "AttributeError",
     "evalue": "'Get_address_details' object has no attribute 'get_all_txns_by_datetime'",
     "output_type": "error",
     "traceback": [
      "\u001b[1;31m---------------------------------------------------------------------------\u001b[0m",
      "\u001b[1;31mAttributeError\u001b[0m                            Traceback (most recent call last)",
      "\u001b[1;32mc:\\Users\\user\\Desktop\\etherscan_analysis\\streamlit\\notebook\\etherscan_analysis.ipynb Cell 24\u001b[0m in \u001b[0;36m<cell line: 2>\u001b[1;34m()\u001b[0m\n\u001b[0;32m      <a href='vscode-notebook-cell:/c%3A/Users/user/Desktop/etherscan_analysis/streamlit/notebook/etherscan_analysis.ipynb#ch0000017?line=0'>1</a>\u001b[0m get_txns \u001b[39m=\u001b[39m Get_address_details(address)\n\u001b[1;32m----> <a href='vscode-notebook-cell:/c%3A/Users/user/Desktop/etherscan_analysis/streamlit/notebook/etherscan_analysis.ipynb#ch0000017?line=1'>2</a>\u001b[0m result \u001b[39m=\u001b[39m get_txns\u001b[39m.\u001b[39;49mget_all_txns_by_datetime()\n\u001b[0;32m      <a href='vscode-notebook-cell:/c%3A/Users/user/Desktop/etherscan_analysis/streamlit/notebook/etherscan_analysis.ipynb#ch0000017?line=2'>3</a>\u001b[0m result\n",
      "\u001b[1;31mAttributeError\u001b[0m: 'Get_address_details' object has no attribute 'get_all_txns_by_datetime'"
     ]
    }
   ],
   "source": [
    "get_txns = Get_address_details(address)\n",
    "result = get_txns.get_all_txns_by_datetime()\n",
    "result"
   ]
  },
  {
   "cell_type": "code",
   "execution_count": null,
   "metadata": {},
   "outputs": [],
   "source": [
    "def txns_by_year(address_result_dict):\n",
    "    datetime_list = list(address_result_dict.keys())\n",
    "    yeartime_dict = {}\n",
    "    \n",
    "    for year_day in address_result_dict:\n",
    "        year = year_day.split(\"-\")[0]\n",
    "        if year in yeartime_dict:\n",
    "            yeartime_dict[year] += 1\n",
    "        else:\n",
    "            yeartime_dict[year] = 1\n",
    "    \n",
    "    return yeartime_dict\n",
    "        "
   ]
  },
  {
   "cell_type": "code",
   "execution_count": null,
   "metadata": {},
   "outputs": [],
   "source": [
    "txns_by_year(result)"
   ]
  },
  {
   "cell_type": "code",
   "execution_count": null,
   "metadata": {},
   "outputs": [],
   "source": [
    "def txn_in_specific_year(target_year, address_result_dict):\n",
    "    \n",
    "    month_time_dict = {}\n",
    "    \n",
    "    for year_day in address_result_dict:\n",
    "        year, month = year_day.split(\"-\")[0], year_day.split(\"-\")[1]\n",
    "        if year == target_year:\n",
    "            if month in month_time_dict:\n",
    "                month_time_dict[month] += 1\n",
    "            else:\n",
    "                month_time_dict[month] = 1\n",
    "        else:\n",
    "            pass\n",
    "        \n",
    "    return month_time_dict"
   ]
  },
  {
   "cell_type": "code",
   "execution_count": null,
   "metadata": {},
   "outputs": [],
   "source": [
    "txn_in_specific_year(\"2019\", result)"
   ]
  },
  {
   "cell_type": "code",
   "execution_count": null,
   "metadata": {},
   "outputs": [],
   "source": [
    "df = pd.DataFrame(list(result.items()),\n",
    "                   columns=['datetime', 'counts'])"
   ]
  },
  {
   "cell_type": "code",
   "execution_count": null,
   "metadata": {},
   "outputs": [],
   "source": [
    "df"
   ]
  },
  {
   "cell_type": "code",
   "execution_count": null,
   "metadata": {},
   "outputs": [],
   "source": [
    "list(df.items())[0][1].tolist()"
   ]
  },
  {
   "cell_type": "code",
   "execution_count": null,
   "metadata": {},
   "outputs": [],
   "source": [
    "list(df.items())[1][1].tolist()"
   ]
  },
  {
   "cell_type": "code",
   "execution_count": null,
   "metadata": {},
   "outputs": [],
   "source": [
    "len(df)"
   ]
  },
  {
   "cell_type": "code",
   "execution_count": null,
   "metadata": {},
   "outputs": [],
   "source": [
    "# example for get account balance url\n",
    "\"\"\"\n",
    "https://api.etherscan.io/api\n",
    "   ?module=account\n",
    "   &action=balance\n",
    "   &address=0xde0b295669a9fd93d5f28d9ec85e40f4cb697bae\n",
    "   &tag=latest\n",
    "   &apikey=YourApiKeyToken\n",
    "\"\"\""
   ]
  },
  {
   "cell_type": "markdown",
   "metadata": {},
   "source": [
    "### Create api url"
   ]
  },
  {
   "cell_type": "code",
   "execution_count": null,
   "metadata": {},
   "outputs": [],
   "source": [
    "def make_api_url(module, action, address, **kwargs):\n",
    "    url = BASE_URL + f\"?module={module}&action={action}&address={address}&apikey={API_KEY}\"\n",
    "\n",
    "    for key, value in kwargs.items():\n",
    "        url += f\"&{key}={value}\"\n",
    "\n",
    "    return url"
   ]
  },
  {
   "cell_type": "markdown",
   "metadata": {},
   "source": [
    "### Get account balance by address"
   ]
  },
  {
   "cell_type": "code",
   "execution_count": null,
   "metadata": {},
   "outputs": [],
   "source": [
    "def get_account_balance(address):\n",
    "    balance_url = make_api_url(\"account\", \"balance\", address, tag=\"latest\")\n",
    "    response = get(balance_url)\n",
    "    data = response.json()\n",
    "\n",
    "    value = int(data[\"result\"]) / ETHER_VALUE\n",
    "    return value"
   ]
  },
  {
   "cell_type": "code",
   "execution_count": null,
   "metadata": {},
   "outputs": [],
   "source": [
    "account_balance = get_account_balance(address)\n",
    "print(account_balance)"
   ]
  },
  {
   "cell_type": "code",
   "execution_count": null,
   "metadata": {},
   "outputs": [],
   "source": [
    "# Example for get all txns record from address\n",
    "\"\"\"\n",
    "https://api.etherscan.io/api\n",
    "   ?module=account\n",
    "   &action=txlist\n",
    "   &address=0xc5102fE9359FD9a28f877a67E36B0F050d81a3CC\n",
    "   &startblock=0\n",
    "   &endblock=99999999\n",
    "   &page=1\n",
    "   &offset=10\n",
    "   &sort=asc\n",
    "   &apikey=YourApiKeyToken\n",
    "\"\"\""
   ]
  },
  {
   "cell_type": "code",
   "execution_count": null,
   "metadata": {},
   "outputs": [],
   "source": [
    "def get_txns(address):\n",
    "    \"\"\"\n",
    "    Get all txns \n",
    "    \"\"\"\n",
    "    transactions_url = make_api_url(\"account\", \"txlist\", address, startblock=0, endblock=99999999, page=1, offset=10000, sort=\"asc\")\n",
    "    response = get(transactions_url)\n",
    "    data = response.json()[\"result\"]\n",
    "\n",
    "    internal_tx_url = make_api_url(\"account\", \"txlistinternal\", address, startblock=0, endblock=99999999, page=1, offset=10000, sort=\"asc\")\n",
    "    response2 = get(internal_tx_url)\n",
    "    data2 = response2.json()[\"result\"]\n",
    "\n",
    "    data.extend(data2)\n",
    "    data.sort(key=lambda x: int(x['timeStamp']))\n",
    "    \n",
    "    return data"
   ]
  },
  {
   "cell_type": "code",
   "execution_count": null,
   "metadata": {},
   "outputs": [],
   "source": [
    "def get_txns_sum_by_datetime(address):\n",
    "    address_data = get_txns(address)\n",
    "    txns_by_datetime = {}\n",
    "    \n",
    "    for txn_data in address_data:\n",
    "        time = str(datetime.fromtimestamp(int(txn_data[\"timeStamp\"]))).split(\" \")[0]\n",
    "        \n",
    "        if time in txns_by_datetime:\n",
    "            txns_by_datetime[time] += 1\n",
    "        else:\n",
    "            txns_by_datetime[time] = 1\n",
    "    return txns_by_datetime"
   ]
  },
  {
   "cell_type": "code",
   "execution_count": null,
   "metadata": {},
   "outputs": [],
   "source": [
    "def get_normal_txns_by_datetime(address):\n",
    "    \n",
    "    \"\"\"\n",
    "    Get normal txns by date time\n",
    "    \"\"\"\n",
    "    \n",
    "    txns_by_datetime = {}\n",
    "    \n",
    "    transactions_url = make_api_url(\"account\", \"txlist\", address, startblock=0, endblock=99999999, page=1, offset=10000, sort=\"asc\")\n",
    "    response = get(transactions_url)\n",
    "    data = response.json()[\"result\"]\n",
    "    \n",
    "    data.sort(key=lambda x: int(x['timeStamp']))\n",
    "    \n",
    "    for d in data:\n",
    "        time = str(datetime.fromtimestamp(int(d[\"timeStamp\"]))).split(\" \")[0]\n",
    "        \n",
    "        if time in txns_by_datetime:\n",
    "            txns_by_datetime[time] += 1\n",
    "        else:\n",
    "            txns_by_datetime[time] = 1\n",
    "        \n",
    "    return txns_by_datetime\n",
    "    "
   ]
  },
  {
   "cell_type": "code",
   "execution_count": null,
   "metadata": {},
   "outputs": [],
   "source": [
    "noraml_txns = get_normal_txns_by_datetime(address)"
   ]
  },
  {
   "cell_type": "code",
   "execution_count": null,
   "metadata": {},
   "outputs": [],
   "source": [
    "noraml_txns"
   ]
  },
  {
   "cell_type": "code",
   "execution_count": null,
   "metadata": {},
   "outputs": [],
   "source": [
    "def get_internal_txns_by_datetime(address):\n",
    "    \n",
    "    \"\"\"\n",
    "    Get normal txns by date time\n",
    "    \"\"\"\n",
    "    \n",
    "    txns_by_datetime = {}\n",
    "    \n",
    "    transactions_url = make_api_url(\"account\", \"txlistinternal\", address, startblock=0, endblock=99999999, page=1, offset=10000, sort=\"asc\")\n",
    "    response = get(transactions_url)\n",
    "    data = response.json()[\"result\"]\n",
    "    \n",
    "    data.sort(key=lambda x: int(x['timeStamp']))\n",
    "    \n",
    "    for d in data:\n",
    "        time = str(datetime.fromtimestamp(int(d[\"timeStamp\"]))).split(\" \")[0]\n",
    "        \n",
    "        if time in txns_by_datetime:\n",
    "            txns_by_datetime[time] += 1\n",
    "        else:\n",
    "            txns_by_datetime[time] = 1\n",
    "        \n",
    "    return txns_by_datetime"
   ]
  },
  {
   "cell_type": "code",
   "execution_count": null,
   "metadata": {},
   "outputs": [],
   "source": [
    "internal_txns_datetime = get_internal_txns_by_datetime(address2)"
   ]
  },
  {
   "cell_type": "code",
   "execution_count": null,
   "metadata": {},
   "outputs": [],
   "source": [
    "internal_txns_datetime"
   ]
  },
  {
   "cell_type": "code",
   "execution_count": null,
   "metadata": {},
   "outputs": [],
   "source": [
    "tick_spacing = len(internal_txns_datetime)/7 # x軸密集度\n",
    "\n",
    "fig = plt.figure(figsize=(10, 8)) # 寬10 長8\n",
    "gs = GridSpec(1, 1) # 設立1x1的網格\n",
    "\n",
    "ax = plt.subplot(gs[0, 0]) # 子圖ax在網格的[0, 0]\n",
    "ax.xaxis.set_major_locator(mticker.MultipleLocator(tick_spacing))\n",
    "\n",
    "ax.plot_date(list(internal_txns_datetime.keys()), list(internal_txns_datetime.values()), linestyle ='solid')"
   ]
  },
  {
   "cell_type": "markdown",
   "metadata": {},
   "source": [
    "### Ploting txns (nomal) sum by datetime"
   ]
  },
  {
   "cell_type": "code",
   "execution_count": null,
   "metadata": {},
   "outputs": [],
   "source": [
    "normal_txns_datetime = get_normal_txns_by_datetime(address2)"
   ]
  },
  {
   "cell_type": "code",
   "execution_count": null,
   "metadata": {},
   "outputs": [],
   "source": [
    "tick_spacing = len(normal_txns_datetime)/7 # x軸密集度\n",
    "\n",
    "fig = plt.figure(figsize=(10, 8)) # 寬10 長8\n",
    "gs = GridSpec(1, 1) # 設立1x1的網格\n",
    "\n",
    "ax = plt.subplot(gs[0, 0]) # 子圖ax在網格的[0, 0]\n",
    "ax.xaxis.set_major_locator(mticker.MultipleLocator(tick_spacing))\n",
    "\n",
    "ax.plot_date(list(normal_txns_datetime.keys()), list(normal_txns_datetime.values()), linestyle ='solid')"
   ]
  },
  {
   "cell_type": "markdown",
   "metadata": {},
   "source": [
    "### Ploting txns (nomal and internal) sum by datetime"
   ]
  },
  {
   "cell_type": "code",
   "execution_count": null,
   "metadata": {},
   "outputs": [],
   "source": [
    "txns_datetime = get_txns_sum_by_datetime(address2)"
   ]
  },
  {
   "cell_type": "code",
   "execution_count": null,
   "metadata": {
    "scrolled": false
   },
   "outputs": [],
   "source": [
    "tick_spacing = len(txns_datetime)/7 # x軸密集度\n",
    "\n",
    "fig = plt.figure(figsize=(10, 8)) # 寬10 長8\n",
    "gs = GridSpec(1, 1) # 設立1x1的網格\n",
    "\n",
    "ax = plt.subplot(gs[0, 0]) # 子圖ax在網格的[0, 0]\n",
    "ax.xaxis.set_major_locator(mticker.MultipleLocator(tick_spacing))\n",
    "\n",
    "ax.plot_date(list(txns_datetime.keys()), list(txns_datetime.values()), linestyle ='solid')"
   ]
  }
 ],
 "metadata": {
  "kernelspec": {
   "display_name": "Python 3.8.3 ('base')",
   "language": "python",
   "name": "python3"
  },
  "language_info": {
   "codemirror_mode": {
    "name": "ipython",
    "version": 3
   },
   "file_extension": ".py",
   "mimetype": "text/x-python",
   "name": "python",
   "nbconvert_exporter": "python",
   "pygments_lexer": "ipython3",
   "version": "3.8.3"
  },
  "vscode": {
   "interpreter": {
    "hash": "631926b96873d2007fbe5ba14401cac9ce99e5e76ded0bffc18be58f3fefa61b"
   }
  }
 },
 "nbformat": 4,
 "nbformat_minor": 4
}
